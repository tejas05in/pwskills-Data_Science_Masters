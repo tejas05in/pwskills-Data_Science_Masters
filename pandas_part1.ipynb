{
 "cells": [
  {
   "cell_type": "code",
   "execution_count": 1,
   "metadata": {
    "ExecuteTime": {
     "end_time": "2023-08-13T20:39:09.014809800Z",
     "start_time": "2023-08-13T20:39:08.159121100Z"
    }
   },
   "outputs": [],
   "source": [
    "import pandas as pd"
   ]
  },
  {
   "cell_type": "code",
   "execution_count": 2,
   "metadata": {
    "ExecuteTime": {
     "end_time": "2023-08-13T20:39:09.072806Z",
     "start_time": "2023-08-13T20:39:09.019799800Z"
    }
   },
   "outputs": [],
   "source": [
    "df = pd.read_csv(\"services.csv\")"
   ]
  },
  {
   "cell_type": "code",
   "execution_count": 3,
   "metadata": {
    "ExecuteTime": {
     "end_time": "2023-08-13T20:39:09.089801Z",
     "start_time": "2023-08-13T20:39:09.046799Z"
    }
   },
   "outputs": [
    {
     "data": {
      "text/plain": "pandas.core.frame.DataFrame"
     },
     "execution_count": 3,
     "metadata": {},
     "output_type": "execute_result"
    }
   ],
   "source": [
    "type(df)"
   ]
  },
  {
   "cell_type": "code",
   "execution_count": 4,
   "metadata": {
    "ExecuteTime": {
     "end_time": "2023-08-13T20:39:09.198186Z",
     "start_time": "2023-08-13T20:39:09.081805500Z"
    }
   },
   "outputs": [
    {
     "data": {
      "text/plain": "Index(['id', 'location_id', 'program_id', 'accepted_payments',\n       'alternate_name', 'application_process', 'audience', 'description',\n       'eligibility', 'email', 'fees', 'funding_sources',\n       'interpretation_services', 'keywords', 'languages', 'name',\n       'required_documents', 'service_areas', 'status', 'wait_time', 'website',\n       'taxonomy_ids'],\n      dtype='object')"
     },
     "execution_count": 4,
     "metadata": {},
     "output_type": "execute_result"
    }
   ],
   "source": [
    "df.columns"
   ]
  },
  {
   "cell_type": "code",
   "execution_count": 5,
   "metadata": {
    "ExecuteTime": {
     "end_time": "2023-08-13T20:39:09.228193300Z",
     "start_time": "2023-08-13T20:39:09.112805600Z"
    }
   },
   "outputs": [
    {
     "data": {
      "text/plain": "['id',\n 'location_id',\n 'program_id',\n 'accepted_payments',\n 'alternate_name',\n 'application_process',\n 'audience',\n 'description',\n 'eligibility',\n 'email',\n 'fees',\n 'funding_sources',\n 'interpretation_services',\n 'keywords',\n 'languages',\n 'name',\n 'required_documents',\n 'service_areas',\n 'status',\n 'wait_time',\n 'website',\n 'taxonomy_ids']"
     },
     "execution_count": 5,
     "metadata": {},
     "output_type": "execute_result"
    }
   ],
   "source": [
    "list(df.columns)"
   ]
  },
  {
   "cell_type": "code",
   "execution_count": 6,
   "metadata": {
    "ExecuteTime": {
     "end_time": "2023-08-13T20:39:09.229201800Z",
     "start_time": "2023-08-13T20:39:09.148052500Z"
    }
   },
   "outputs": [
    {
     "data": {
      "text/plain": "   id  location_id  program_id accepted_payments alternate_name  \\\n0   1            1         NaN               NaN            NaN   \n1   2            2         NaN               NaN            NaN   \n2   3            3         NaN               NaN            NaN   \n\n                           application_process  \\\n0                   Walk in or apply by phone.   \n1           Apply by phone for an appointment.   \n2  Phone for information (403-4300 Ext. 4322).   \n\n                                            audience  \\\n0  Older adults age 55 or over, ethnic minorities...   \n1       Residents of San Mateo County age 55 or over   \n2  Older adults age 55 or over who can benefit fr...   \n\n                                         description  \\\n0  A walk-in center for older adults that provide...   \n1  Provides training and job placement to eligibl...   \n2  Offers supportive counseling services to San M...   \n\n                                         eligibility email  ...  \\\n0  Age 55 or over for most programs, age 60 or ov...   NaN  ...   \n1  Age 55 or over, county resident and willing an...   NaN  ...   \n2        Resident of San Mateo County age 55 or over   NaN  ...   \n\n  interpretation_services                                           keywords  \\\n0                     NaN  ADULT PROTECTION AND CARE SERVICES, Meal Sites...   \n1                     NaN  EMPLOYMENT/TRAINING SERVICES, Job Development,...   \n2                     NaN  Geriatric Counseling, Older Adults, Gay, Lesbi...   \n\n  languages                              name required_documents  \\\n0       NaN   Fair Oaks Adult Activity Center                NaN   \n1       NaN  Second Career Employment Program                NaN   \n2       NaN            Senior Peer Counseling                NaN   \n\n      service_areas  status wait_time website taxonomy_ids  \n0             Colma  active  No wait.     NaN          NaN  \n1  San Mateo County  active   Varies.     NaN          NaN  \n2  San Mateo County  active   Varies.     NaN          NaN  \n\n[3 rows x 22 columns]",
      "text/html": "<div>\n<style scoped>\n    .dataframe tbody tr th:only-of-type {\n        vertical-align: middle;\n    }\n\n    .dataframe tbody tr th {\n        vertical-align: top;\n    }\n\n    .dataframe thead th {\n        text-align: right;\n    }\n</style>\n<table border=\"1\" class=\"dataframe\">\n  <thead>\n    <tr style=\"text-align: right;\">\n      <th></th>\n      <th>id</th>\n      <th>location_id</th>\n      <th>program_id</th>\n      <th>accepted_payments</th>\n      <th>alternate_name</th>\n      <th>application_process</th>\n      <th>audience</th>\n      <th>description</th>\n      <th>eligibility</th>\n      <th>email</th>\n      <th>...</th>\n      <th>interpretation_services</th>\n      <th>keywords</th>\n      <th>languages</th>\n      <th>name</th>\n      <th>required_documents</th>\n      <th>service_areas</th>\n      <th>status</th>\n      <th>wait_time</th>\n      <th>website</th>\n      <th>taxonomy_ids</th>\n    </tr>\n  </thead>\n  <tbody>\n    <tr>\n      <th>0</th>\n      <td>1</td>\n      <td>1</td>\n      <td>NaN</td>\n      <td>NaN</td>\n      <td>NaN</td>\n      <td>Walk in or apply by phone.</td>\n      <td>Older adults age 55 or over, ethnic minorities...</td>\n      <td>A walk-in center for older adults that provide...</td>\n      <td>Age 55 or over for most programs, age 60 or ov...</td>\n      <td>NaN</td>\n      <td>...</td>\n      <td>NaN</td>\n      <td>ADULT PROTECTION AND CARE SERVICES, Meal Sites...</td>\n      <td>NaN</td>\n      <td>Fair Oaks Adult Activity Center</td>\n      <td>NaN</td>\n      <td>Colma</td>\n      <td>active</td>\n      <td>No wait.</td>\n      <td>NaN</td>\n      <td>NaN</td>\n    </tr>\n    <tr>\n      <th>1</th>\n      <td>2</td>\n      <td>2</td>\n      <td>NaN</td>\n      <td>NaN</td>\n      <td>NaN</td>\n      <td>Apply by phone for an appointment.</td>\n      <td>Residents of San Mateo County age 55 or over</td>\n      <td>Provides training and job placement to eligibl...</td>\n      <td>Age 55 or over, county resident and willing an...</td>\n      <td>NaN</td>\n      <td>...</td>\n      <td>NaN</td>\n      <td>EMPLOYMENT/TRAINING SERVICES, Job Development,...</td>\n      <td>NaN</td>\n      <td>Second Career Employment Program</td>\n      <td>NaN</td>\n      <td>San Mateo County</td>\n      <td>active</td>\n      <td>Varies.</td>\n      <td>NaN</td>\n      <td>NaN</td>\n    </tr>\n    <tr>\n      <th>2</th>\n      <td>3</td>\n      <td>3</td>\n      <td>NaN</td>\n      <td>NaN</td>\n      <td>NaN</td>\n      <td>Phone for information (403-4300 Ext. 4322).</td>\n      <td>Older adults age 55 or over who can benefit fr...</td>\n      <td>Offers supportive counseling services to San M...</td>\n      <td>Resident of San Mateo County age 55 or over</td>\n      <td>NaN</td>\n      <td>...</td>\n      <td>NaN</td>\n      <td>Geriatric Counseling, Older Adults, Gay, Lesbi...</td>\n      <td>NaN</td>\n      <td>Senior Peer Counseling</td>\n      <td>NaN</td>\n      <td>San Mateo County</td>\n      <td>active</td>\n      <td>Varies.</td>\n      <td>NaN</td>\n      <td>NaN</td>\n    </tr>\n  </tbody>\n</table>\n<p>3 rows × 22 columns</p>\n</div>"
     },
     "execution_count": 6,
     "metadata": {},
     "output_type": "execute_result"
    }
   ],
   "source": [
    "df.head(3)"
   ]
  },
  {
   "cell_type": "code",
   "execution_count": 7,
   "metadata": {
    "ExecuteTime": {
     "end_time": "2023-08-13T20:39:09.356370Z",
     "start_time": "2023-08-13T20:39:09.206196100Z"
    }
   },
   "outputs": [
    {
     "data": {
      "text/plain": "    id  location_id  program_id         accepted_payments  \\\n20  21           21         NaN                       NaN   \n21  22           22         NaN  Cash, Check, Credit Card   \n22  23           22         NaN                       NaN   \n\n           alternate_name                application_process  \\\n20                    NaN    By phone during business hours.   \n21  Fotos para pasaportes  Walk in or apply by phone or mail   \n22                    NaN  Walk in or apply by phone or mail   \n\n                                             audience  \\\n20                                                NaN   \n21  Profit and nonprofit businesses, the public, m...   \n22  Second service and nonprofit businesses, the p...   \n\n                                          description eligibility  \\\n20                                just a test service         NaN   \n21  [NOTE THIS IS NOT A REAL SERVICE--THIS IS FOR ...         NaN   \n22  [NOTE THIS IS NOT A REAL ORGANIZATION--THIS IS...         NaN   \n\n                    email  ...  \\\n20                    NaN  ...   \n21  passports@example.org  ...   \n22                    NaN  ...   \n\n                              interpretation_services  \\\n20                                                NaN   \n21  We offer 3-way interpretation services over th...   \n22                                                NaN   \n\n                                      keywords languages  \\\n20                                         NaN       NaN   \n21                             Salud, Medicina   Spanish   \n22  Ruby on Rails/Postgres/Redis, testing, wic       NaN   \n\n                               name                        required_documents  \\\n20  Service for Admin Test Location                                       NaN   \n21                  Passport Photos  Government-issued picture identification   \n22             Example Service Name                                       NaN   \n\n                       service_areas    status            wait_time  \\\n20                  San Mateo County  inactive                  NaN   \n21  Alameda County, San Mateo County    active  No wait to 2 weeks.   \n22  San Mateo County, Alameda County    active   No wait to 2 weeks   \n\n                   website                              taxonomy_ids  \n20                     NaN                                       NaN  \n21  http://www.example.com  105, 108, 108-05, 108-05-01, 111, 111-05  \n22  http://www.example.com                                       NaN  \n\n[3 rows x 22 columns]",
      "text/html": "<div>\n<style scoped>\n    .dataframe tbody tr th:only-of-type {\n        vertical-align: middle;\n    }\n\n    .dataframe tbody tr th {\n        vertical-align: top;\n    }\n\n    .dataframe thead th {\n        text-align: right;\n    }\n</style>\n<table border=\"1\" class=\"dataframe\">\n  <thead>\n    <tr style=\"text-align: right;\">\n      <th></th>\n      <th>id</th>\n      <th>location_id</th>\n      <th>program_id</th>\n      <th>accepted_payments</th>\n      <th>alternate_name</th>\n      <th>application_process</th>\n      <th>audience</th>\n      <th>description</th>\n      <th>eligibility</th>\n      <th>email</th>\n      <th>...</th>\n      <th>interpretation_services</th>\n      <th>keywords</th>\n      <th>languages</th>\n      <th>name</th>\n      <th>required_documents</th>\n      <th>service_areas</th>\n      <th>status</th>\n      <th>wait_time</th>\n      <th>website</th>\n      <th>taxonomy_ids</th>\n    </tr>\n  </thead>\n  <tbody>\n    <tr>\n      <th>20</th>\n      <td>21</td>\n      <td>21</td>\n      <td>NaN</td>\n      <td>NaN</td>\n      <td>NaN</td>\n      <td>By phone during business hours.</td>\n      <td>NaN</td>\n      <td>just a test service</td>\n      <td>NaN</td>\n      <td>NaN</td>\n      <td>...</td>\n      <td>NaN</td>\n      <td>NaN</td>\n      <td>NaN</td>\n      <td>Service for Admin Test Location</td>\n      <td>NaN</td>\n      <td>San Mateo County</td>\n      <td>inactive</td>\n      <td>NaN</td>\n      <td>NaN</td>\n      <td>NaN</td>\n    </tr>\n    <tr>\n      <th>21</th>\n      <td>22</td>\n      <td>22</td>\n      <td>NaN</td>\n      <td>Cash, Check, Credit Card</td>\n      <td>Fotos para pasaportes</td>\n      <td>Walk in or apply by phone or mail</td>\n      <td>Profit and nonprofit businesses, the public, m...</td>\n      <td>[NOTE THIS IS NOT A REAL SERVICE--THIS IS FOR ...</td>\n      <td>NaN</td>\n      <td>passports@example.org</td>\n      <td>...</td>\n      <td>We offer 3-way interpretation services over th...</td>\n      <td>Salud, Medicina</td>\n      <td>Spanish</td>\n      <td>Passport Photos</td>\n      <td>Government-issued picture identification</td>\n      <td>Alameda County, San Mateo County</td>\n      <td>active</td>\n      <td>No wait to 2 weeks.</td>\n      <td>http://www.example.com</td>\n      <td>105, 108, 108-05, 108-05-01, 111, 111-05</td>\n    </tr>\n    <tr>\n      <th>22</th>\n      <td>23</td>\n      <td>22</td>\n      <td>NaN</td>\n      <td>NaN</td>\n      <td>NaN</td>\n      <td>Walk in or apply by phone or mail</td>\n      <td>Second service and nonprofit businesses, the p...</td>\n      <td>[NOTE THIS IS NOT A REAL ORGANIZATION--THIS IS...</td>\n      <td>NaN</td>\n      <td>NaN</td>\n      <td>...</td>\n      <td>NaN</td>\n      <td>Ruby on Rails/Postgres/Redis, testing, wic</td>\n      <td>NaN</td>\n      <td>Example Service Name</td>\n      <td>NaN</td>\n      <td>San Mateo County, Alameda County</td>\n      <td>active</td>\n      <td>No wait to 2 weeks</td>\n      <td>http://www.example.com</td>\n      <td>NaN</td>\n    </tr>\n  </tbody>\n</table>\n<p>3 rows × 22 columns</p>\n</div>"
     },
     "execution_count": 7,
     "metadata": {},
     "output_type": "execute_result"
    }
   ],
   "source": [
    "df.tail(3)"
   ]
  },
  {
   "cell_type": "code",
   "execution_count": 8,
   "metadata": {
    "ExecuteTime": {
     "end_time": "2023-08-13T20:39:09.359371400Z",
     "start_time": "2023-08-13T20:39:09.257375500Z"
    }
   },
   "outputs": [
    {
     "data": {
      "text/plain": "id                           int64\nlocation_id                  int64\nprogram_id                 float64\naccepted_payments           object\nalternate_name              object\napplication_process         object\naudience                    object\ndescription                 object\neligibility                 object\nemail                       object\nfees                        object\nfunding_sources             object\ninterpretation_services     object\nkeywords                    object\nlanguages                   object\nname                        object\nrequired_documents          object\nservice_areas               object\nstatus                      object\nwait_time                   object\nwebsite                     object\ntaxonomy_ids                object\ndtype: object"
     },
     "execution_count": 8,
     "metadata": {},
     "output_type": "execute_result"
    }
   ],
   "source": [
    "df.dtypes"
   ]
  },
  {
   "cell_type": "code",
   "execution_count": 9,
   "metadata": {
    "ExecuteTime": {
     "end_time": "2023-08-13T20:39:09.436377200Z",
     "start_time": "2023-08-13T20:39:09.287387100Z"
    }
   },
   "outputs": [
    {
     "data": {
      "text/plain": "Index(['id', 'location_id', 'program_id', 'accepted_payments',\n       'alternate_name', 'application_process', 'audience', 'description',\n       'eligibility', 'email', 'fees', 'funding_sources',\n       'interpretation_services', 'keywords', 'languages', 'name',\n       'required_documents', 'service_areas', 'status', 'wait_time', 'website',\n       'taxonomy_ids'],\n      dtype='object')"
     },
     "execution_count": 9,
     "metadata": {},
     "output_type": "execute_result"
    }
   ],
   "source": [
    "df.columns"
   ]
  },
  {
   "cell_type": "code",
   "execution_count": 10,
   "metadata": {
    "ExecuteTime": {
     "end_time": "2023-08-13T20:39:09.438372900Z",
     "start_time": "2023-08-13T20:39:09.317411800Z"
    }
   },
   "outputs": [
    {
     "data": {
      "text/plain": "0      1\n1      2\n2      3\n3      4\n4      5\n5      6\n6      7\n7      8\n8      9\n9     10\n10    11\n11    12\n12    13\n13    14\n14    15\n15    16\n16    17\n17    18\n18    19\n19    20\n20    21\n21    22\n22    22\nName: location_id, dtype: int64"
     },
     "execution_count": 10,
     "metadata": {},
     "output_type": "execute_result"
    }
   ],
   "source": [
    "df[\"location_id\"]"
   ]
  },
  {
   "cell_type": "code",
   "execution_count": 11,
   "metadata": {
    "ExecuteTime": {
     "end_time": "2023-08-13T20:39:09.439376300Z",
     "start_time": "2023-08-13T20:39:09.333376500Z"
    }
   },
   "outputs": [
    {
     "data": {
      "text/plain": "pandas.core.series.Series"
     },
     "execution_count": 11,
     "metadata": {},
     "output_type": "execute_result"
    }
   ],
   "source": [
    "type(df[\"location_id\"])"
   ]
  },
  {
   "cell_type": "code",
   "execution_count": 12,
   "metadata": {
    "ExecuteTime": {
     "end_time": "2023-08-13T20:39:09.440377200Z",
     "start_time": "2023-08-13T20:39:09.349379800Z"
    }
   },
   "outputs": [
    {
     "data": {
      "text/plain": "[1,\n 2,\n 3,\n 4,\n 5,\n 6,\n 7,\n 8,\n 9,\n 10,\n 11,\n 12,\n 13,\n 14,\n 15,\n 16,\n 17,\n 18,\n 19,\n 20,\n 21,\n 22,\n 22]"
     },
     "execution_count": 12,
     "metadata": {},
     "output_type": "execute_result"
    }
   ],
   "source": [
    "list(df[\"location_id\"])"
   ]
  },
  {
   "cell_type": "code",
   "execution_count": 13,
   "metadata": {
    "ExecuteTime": {
     "end_time": "2023-08-13T20:39:09.629790300Z",
     "start_time": "2023-08-13T20:39:09.362382800Z"
    }
   },
   "outputs": [
    {
     "data": {
      "text/plain": "Index(['id', 'location_id', 'program_id', 'accepted_payments',\n       'alternate_name', 'application_process', 'audience', 'description',\n       'eligibility', 'email', 'fees', 'funding_sources',\n       'interpretation_services', 'keywords', 'languages', 'name',\n       'required_documents', 'service_areas', 'status', 'wait_time', 'website',\n       'taxonomy_ids'],\n      dtype='object')"
     },
     "execution_count": 13,
     "metadata": {},
     "output_type": "execute_result"
    }
   ],
   "source": [
    "df.columns"
   ]
  },
  {
   "cell_type": "code",
   "execution_count": 14,
   "metadata": {
    "ExecuteTime": {
     "end_time": "2023-08-13T20:39:09.667792300Z",
     "start_time": "2023-08-13T20:39:09.387390900Z"
    }
   },
   "outputs": [
    {
     "data": {
      "text/plain": "pandas.core.frame.DataFrame"
     },
     "execution_count": 14,
     "metadata": {},
     "output_type": "execute_result"
    }
   ],
   "source": [
    "type(df[[\"location_id\"]])"
   ]
  },
  {
   "cell_type": "code",
   "execution_count": 15,
   "metadata": {
    "ExecuteTime": {
     "end_time": "2023-08-13T20:39:09.714787Z",
     "start_time": "2023-08-13T20:39:09.415371300Z"
    }
   },
   "outputs": [
    {
     "data": {
      "text/plain": "Index(['id', 'location_id', 'program_id', 'accepted_payments',\n       'alternate_name', 'application_process', 'audience', 'description',\n       'eligibility', 'email', 'fees', 'funding_sources',\n       'interpretation_services', 'keywords', 'languages', 'name',\n       'required_documents', 'service_areas', 'status', 'wait_time', 'website',\n       'taxonomy_ids'],\n      dtype='object')"
     },
     "execution_count": 15,
     "metadata": {},
     "output_type": "execute_result"
    }
   ],
   "source": [
    "df.columns"
   ]
  },
  {
   "cell_type": "code",
   "execution_count": 16,
   "metadata": {
    "ExecuteTime": {
     "end_time": "2023-08-13T20:39:09.715792500Z",
     "start_time": "2023-08-13T20:39:09.428378200Z"
    }
   },
   "outputs": [
    {
     "data": {
      "text/plain": "                                             keywords    status\n0   ADULT PROTECTION AND CARE SERVICES, Meal Sites...    active\n1   EMPLOYMENT/TRAINING SERVICES, Job Development,...    active\n2   Geriatric Counseling, Older Adults, Gay, Lesbi...    active\n3   INDIVIDUAL AND FAMILY DEVELOPMENT SERVICES, Gr...    active\n4      COMMUNITY SERVICES, Speakers, Automobile Loans    active\n5   ADULT PROTECTION AND CARE SERVICES, In-Home Su...    active\n6   ADULT PROTECTION AND CARE SERVICES, Adult Day ...    active\n7   ADULT PROTECTION AND CARE SERVICES, Meal Sites...    active\n8   EDUCATION SERVICES, Library, Libraries, Public...    active\n9   EDUCATION SERVICES, Library, Libraries, Public...    active\n10  EDUCATION SERVICES, Library, Libraries, Public...    active\n11  EDUCATION SERVICES, Adult, Alternative, Litera...    active\n12  EDUCATION SERVICES, Library, Libraries, Public...    active\n13  COMMUNITY SERVICES, Interpretation/Translation...    active\n14  ALCOHOLISM SERVICES, Residential Care, DRUG AB...    active\n15  COMMODITY SERVICES, Clothing/Personal Items, C...    active\n16  COMMODITY SERVICES, Clothing/Personal Items, C...    active\n17  HEALTH SERVICES, Outpatient Care, Community Cl...    active\n18  HEALTH SERVICES, Outpatient Care, Community Cl...    active\n19                                                NaN   defunct\n20                                                NaN  inactive\n21                                    Salud, Medicina    active\n22         Ruby on Rails/Postgres/Redis, testing, wic    active",
      "text/html": "<div>\n<style scoped>\n    .dataframe tbody tr th:only-of-type {\n        vertical-align: middle;\n    }\n\n    .dataframe tbody tr th {\n        vertical-align: top;\n    }\n\n    .dataframe thead th {\n        text-align: right;\n    }\n</style>\n<table border=\"1\" class=\"dataframe\">\n  <thead>\n    <tr style=\"text-align: right;\">\n      <th></th>\n      <th>keywords</th>\n      <th>status</th>\n    </tr>\n  </thead>\n  <tbody>\n    <tr>\n      <th>0</th>\n      <td>ADULT PROTECTION AND CARE SERVICES, Meal Sites...</td>\n      <td>active</td>\n    </tr>\n    <tr>\n      <th>1</th>\n      <td>EMPLOYMENT/TRAINING SERVICES, Job Development,...</td>\n      <td>active</td>\n    </tr>\n    <tr>\n      <th>2</th>\n      <td>Geriatric Counseling, Older Adults, Gay, Lesbi...</td>\n      <td>active</td>\n    </tr>\n    <tr>\n      <th>3</th>\n      <td>INDIVIDUAL AND FAMILY DEVELOPMENT SERVICES, Gr...</td>\n      <td>active</td>\n    </tr>\n    <tr>\n      <th>4</th>\n      <td>COMMUNITY SERVICES, Speakers, Automobile Loans</td>\n      <td>active</td>\n    </tr>\n    <tr>\n      <th>5</th>\n      <td>ADULT PROTECTION AND CARE SERVICES, In-Home Su...</td>\n      <td>active</td>\n    </tr>\n    <tr>\n      <th>6</th>\n      <td>ADULT PROTECTION AND CARE SERVICES, Adult Day ...</td>\n      <td>active</td>\n    </tr>\n    <tr>\n      <th>7</th>\n      <td>ADULT PROTECTION AND CARE SERVICES, Meal Sites...</td>\n      <td>active</td>\n    </tr>\n    <tr>\n      <th>8</th>\n      <td>EDUCATION SERVICES, Library, Libraries, Public...</td>\n      <td>active</td>\n    </tr>\n    <tr>\n      <th>9</th>\n      <td>EDUCATION SERVICES, Library, Libraries, Public...</td>\n      <td>active</td>\n    </tr>\n    <tr>\n      <th>10</th>\n      <td>EDUCATION SERVICES, Library, Libraries, Public...</td>\n      <td>active</td>\n    </tr>\n    <tr>\n      <th>11</th>\n      <td>EDUCATION SERVICES, Adult, Alternative, Litera...</td>\n      <td>active</td>\n    </tr>\n    <tr>\n      <th>12</th>\n      <td>EDUCATION SERVICES, Library, Libraries, Public...</td>\n      <td>active</td>\n    </tr>\n    <tr>\n      <th>13</th>\n      <td>COMMUNITY SERVICES, Interpretation/Translation...</td>\n      <td>active</td>\n    </tr>\n    <tr>\n      <th>14</th>\n      <td>ALCOHOLISM SERVICES, Residential Care, DRUG AB...</td>\n      <td>active</td>\n    </tr>\n    <tr>\n      <th>15</th>\n      <td>COMMODITY SERVICES, Clothing/Personal Items, C...</td>\n      <td>active</td>\n    </tr>\n    <tr>\n      <th>16</th>\n      <td>COMMODITY SERVICES, Clothing/Personal Items, C...</td>\n      <td>active</td>\n    </tr>\n    <tr>\n      <th>17</th>\n      <td>HEALTH SERVICES, Outpatient Care, Community Cl...</td>\n      <td>active</td>\n    </tr>\n    <tr>\n      <th>18</th>\n      <td>HEALTH SERVICES, Outpatient Care, Community Cl...</td>\n      <td>active</td>\n    </tr>\n    <tr>\n      <th>19</th>\n      <td>NaN</td>\n      <td>defunct</td>\n    </tr>\n    <tr>\n      <th>20</th>\n      <td>NaN</td>\n      <td>inactive</td>\n    </tr>\n    <tr>\n      <th>21</th>\n      <td>Salud, Medicina</td>\n      <td>active</td>\n    </tr>\n    <tr>\n      <th>22</th>\n      <td>Ruby on Rails/Postgres/Redis, testing, wic</td>\n      <td>active</td>\n    </tr>\n  </tbody>\n</table>\n</div>"
     },
     "execution_count": 16,
     "metadata": {},
     "output_type": "execute_result"
    }
   ],
   "source": [
    "df[[\"keywords\",\"status\"]]"
   ]
  },
  {
   "cell_type": "code",
   "execution_count": 17,
   "metadata": {
    "ExecuteTime": {
     "end_time": "2023-08-13T20:39:09.755796100Z",
     "start_time": "2023-08-13T20:39:09.461380500Z"
    }
   },
   "outputs": [
    {
     "data": {
      "text/plain": "           alternate_name                                application_process  \\\n0                     NaN                         Walk in or apply by phone.   \n1                     NaN                 Apply by phone for an appointment.   \n2                     NaN        Phone for information (403-4300 Ext. 4322).   \n3                     NaN                                    Apply by phone.   \n4                     NaN                             Phone for information.   \n5                     NaN  Walk in or apply by phone for membership appli...   \n6                     NaN  Apply by phone or be referred by a doctor, soc...   \n7                     NaN                                    Apply by phone.   \n8                     NaN  Walk in. Proof of residency in California requ...   \n9                     NaN  Walk in. Proof of California residency to rece...   \n10                    NaN  Walk in. Proof of California residency require...   \n11                    NaN  Walk in or apply by phone, email or webpage re...   \n12                    NaN  Walk in. Proof of California residency require...   \n13                    NaN  Call for appointment. Referral from human serv...   \n14                    NaN          Walk in or through other agency referral.   \n15                    NaN  Walk in. Written application, identification r...   \n16                    NaN                              Call for information.   \n17                    NaN  Call for screening appointment. Medical visits...   \n18                    NaN     Call for screening appointment (650-347-3648).   \n19                    NaN                                           Walk in.   \n20                    NaN                    By phone during business hours.   \n21  Fotos para pasaportes                  Walk in or apply by phone or mail   \n22                    NaN                  Walk in or apply by phone or mail   \n\n                                             audience  \\\n0   Older adults age 55 or over, ethnic minorities...   \n1        Residents of San Mateo County age 55 or over   \n2   Older adults age 55 or over who can benefit fr...   \n3   Parents, children, families with problems of c...   \n4   Low-income working families with children tran...   \n5                                             Any age   \n6   Older adults who have memory or sensory loss, ...   \n7   Senior citizens age 60 or over, disabled indiv...   \n8      Ethnic minorities, especially Spanish speaking   \n9                                                 NaN   \n10                                                NaN   \n11  Adults, parents, children in 1st-12th grades i...   \n12                                                NaN   \n13  Individuals or families with low or no income ...   \n14  Adult alcoholic/drug addictive men and women w...   \n15                                                NaN   \n16                                                NaN   \n17                                                NaN   \n18                                                NaN   \n19                                                NaN   \n20                                                NaN   \n21  Profit and nonprofit businesses, the public, m...   \n22  Second service and nonprofit businesses, the p...   \n\n                                          description  \\\n0   A walk-in center for older adults that provide...   \n1   Provides training and job placement to eligibl...   \n2   Offers supportive counseling services to San M...   \n3   Provides supervised visitation services and a ...   \n4   Provides fixed 8% short term loans to eligible...   \n5   A multipurpose center offering a wide variety ...   \n6   Rosener House is a day center for older adults...   \n7   Delivers a hot meal to the home of persons age...   \n8   Provides general reading material, including b...   \n9   Provides general reading and media materials, ...   \n10  Provides general reading materials, including ...   \n11  Offers an intergenerational literacy program f...   \n12  Provides general reading materials, including ...   \n13  Provides food, clothing, bus tokens and shelte...   \n14  Provides a long-term (6-12 month) residential ...   \n15  Provides emergency assistance including food a...   \n16  Provides emergency food, clothing and furnitur...   \n17  By appointment only, Project Smile provides a ...   \n18  Provides free medical and dental care to those...   \n19              no unrequired fields for this service   \n20                                just a test service   \n21  [NOTE THIS IS NOT A REAL SERVICE--THIS IS FOR ...   \n22  [NOTE THIS IS NOT A REAL ORGANIZATION--THIS IS...   \n\n                                          eligibility  \n0   Age 55 or over for most programs, age 60 or ov...  \n1   Age 55 or over, county resident and willing an...  \n2         Resident of San Mateo County age 55 or over  \n3                                                 NaN  \n4   Eligibility: Low-income family with legal cust...  \n5                                                 NaN  \n6                                      Age 18 or over  \n7             Homebound person unable to cook or shop  \n8     Resident of California to obtain a library card  \n9             Resident of California to obtain a card  \n10  Resident of California to obtain a library car...  \n11  English-speaking adult reading at or below 7th...  \n12    Resident of California to obtain a library card  \n13  None for most services. For emergency assistan...  \n14  Age 21-60, detoxed, physically able and willin...  \n15                      None for emergency assistance  \n16                                Low-income families  \n17    Low-income person without access to health care  \n18    Low-income person without access to health care  \n19                                                NaN  \n20                                                NaN  \n21                                                NaN  \n22                                                NaN  ",
      "text/html": "<div>\n<style scoped>\n    .dataframe tbody tr th:only-of-type {\n        vertical-align: middle;\n    }\n\n    .dataframe tbody tr th {\n        vertical-align: top;\n    }\n\n    .dataframe thead th {\n        text-align: right;\n    }\n</style>\n<table border=\"1\" class=\"dataframe\">\n  <thead>\n    <tr style=\"text-align: right;\">\n      <th></th>\n      <th>alternate_name</th>\n      <th>application_process</th>\n      <th>audience</th>\n      <th>description</th>\n      <th>eligibility</th>\n    </tr>\n  </thead>\n  <tbody>\n    <tr>\n      <th>0</th>\n      <td>NaN</td>\n      <td>Walk in or apply by phone.</td>\n      <td>Older adults age 55 or over, ethnic minorities...</td>\n      <td>A walk-in center for older adults that provide...</td>\n      <td>Age 55 or over for most programs, age 60 or ov...</td>\n    </tr>\n    <tr>\n      <th>1</th>\n      <td>NaN</td>\n      <td>Apply by phone for an appointment.</td>\n      <td>Residents of San Mateo County age 55 or over</td>\n      <td>Provides training and job placement to eligibl...</td>\n      <td>Age 55 or over, county resident and willing an...</td>\n    </tr>\n    <tr>\n      <th>2</th>\n      <td>NaN</td>\n      <td>Phone for information (403-4300 Ext. 4322).</td>\n      <td>Older adults age 55 or over who can benefit fr...</td>\n      <td>Offers supportive counseling services to San M...</td>\n      <td>Resident of San Mateo County age 55 or over</td>\n    </tr>\n    <tr>\n      <th>3</th>\n      <td>NaN</td>\n      <td>Apply by phone.</td>\n      <td>Parents, children, families with problems of c...</td>\n      <td>Provides supervised visitation services and a ...</td>\n      <td>NaN</td>\n    </tr>\n    <tr>\n      <th>4</th>\n      <td>NaN</td>\n      <td>Phone for information.</td>\n      <td>Low-income working families with children tran...</td>\n      <td>Provides fixed 8% short term loans to eligible...</td>\n      <td>Eligibility: Low-income family with legal cust...</td>\n    </tr>\n    <tr>\n      <th>5</th>\n      <td>NaN</td>\n      <td>Walk in or apply by phone for membership appli...</td>\n      <td>Any age</td>\n      <td>A multipurpose center offering a wide variety ...</td>\n      <td>NaN</td>\n    </tr>\n    <tr>\n      <th>6</th>\n      <td>NaN</td>\n      <td>Apply by phone or be referred by a doctor, soc...</td>\n      <td>Older adults who have memory or sensory loss, ...</td>\n      <td>Rosener House is a day center for older adults...</td>\n      <td>Age 18 or over</td>\n    </tr>\n    <tr>\n      <th>7</th>\n      <td>NaN</td>\n      <td>Apply by phone.</td>\n      <td>Senior citizens age 60 or over, disabled indiv...</td>\n      <td>Delivers a hot meal to the home of persons age...</td>\n      <td>Homebound person unable to cook or shop</td>\n    </tr>\n    <tr>\n      <th>8</th>\n      <td>NaN</td>\n      <td>Walk in. Proof of residency in California requ...</td>\n      <td>Ethnic minorities, especially Spanish speaking</td>\n      <td>Provides general reading material, including b...</td>\n      <td>Resident of California to obtain a library card</td>\n    </tr>\n    <tr>\n      <th>9</th>\n      <td>NaN</td>\n      <td>Walk in. Proof of California residency to rece...</td>\n      <td>NaN</td>\n      <td>Provides general reading and media materials, ...</td>\n      <td>Resident of California to obtain a card</td>\n    </tr>\n    <tr>\n      <th>10</th>\n      <td>NaN</td>\n      <td>Walk in. Proof of California residency require...</td>\n      <td>NaN</td>\n      <td>Provides general reading materials, including ...</td>\n      <td>Resident of California to obtain a library car...</td>\n    </tr>\n    <tr>\n      <th>11</th>\n      <td>NaN</td>\n      <td>Walk in or apply by phone, email or webpage re...</td>\n      <td>Adults, parents, children in 1st-12th grades i...</td>\n      <td>Offers an intergenerational literacy program f...</td>\n      <td>English-speaking adult reading at or below 7th...</td>\n    </tr>\n    <tr>\n      <th>12</th>\n      <td>NaN</td>\n      <td>Walk in. Proof of California residency require...</td>\n      <td>NaN</td>\n      <td>Provides general reading materials, including ...</td>\n      <td>Resident of California to obtain a library card</td>\n    </tr>\n    <tr>\n      <th>13</th>\n      <td>NaN</td>\n      <td>Call for appointment. Referral from human serv...</td>\n      <td>Individuals or families with low or no income ...</td>\n      <td>Provides food, clothing, bus tokens and shelte...</td>\n      <td>None for most services. For emergency assistan...</td>\n    </tr>\n    <tr>\n      <th>14</th>\n      <td>NaN</td>\n      <td>Walk in or through other agency referral.</td>\n      <td>Adult alcoholic/drug addictive men and women w...</td>\n      <td>Provides a long-term (6-12 month) residential ...</td>\n      <td>Age 21-60, detoxed, physically able and willin...</td>\n    </tr>\n    <tr>\n      <th>15</th>\n      <td>NaN</td>\n      <td>Walk in. Written application, identification r...</td>\n      <td>NaN</td>\n      <td>Provides emergency assistance including food a...</td>\n      <td>None for emergency assistance</td>\n    </tr>\n    <tr>\n      <th>16</th>\n      <td>NaN</td>\n      <td>Call for information.</td>\n      <td>NaN</td>\n      <td>Provides emergency food, clothing and furnitur...</td>\n      <td>Low-income families</td>\n    </tr>\n    <tr>\n      <th>17</th>\n      <td>NaN</td>\n      <td>Call for screening appointment. Medical visits...</td>\n      <td>NaN</td>\n      <td>By appointment only, Project Smile provides a ...</td>\n      <td>Low-income person without access to health care</td>\n    </tr>\n    <tr>\n      <th>18</th>\n      <td>NaN</td>\n      <td>Call for screening appointment (650-347-3648).</td>\n      <td>NaN</td>\n      <td>Provides free medical and dental care to those...</td>\n      <td>Low-income person without access to health care</td>\n    </tr>\n    <tr>\n      <th>19</th>\n      <td>NaN</td>\n      <td>Walk in.</td>\n      <td>NaN</td>\n      <td>no unrequired fields for this service</td>\n      <td>NaN</td>\n    </tr>\n    <tr>\n      <th>20</th>\n      <td>NaN</td>\n      <td>By phone during business hours.</td>\n      <td>NaN</td>\n      <td>just a test service</td>\n      <td>NaN</td>\n    </tr>\n    <tr>\n      <th>21</th>\n      <td>Fotos para pasaportes</td>\n      <td>Walk in or apply by phone or mail</td>\n      <td>Profit and nonprofit businesses, the public, m...</td>\n      <td>[NOTE THIS IS NOT A REAL SERVICE--THIS IS FOR ...</td>\n      <td>NaN</td>\n    </tr>\n    <tr>\n      <th>22</th>\n      <td>NaN</td>\n      <td>Walk in or apply by phone or mail</td>\n      <td>Second service and nonprofit businesses, the p...</td>\n      <td>[NOTE THIS IS NOT A REAL ORGANIZATION--THIS IS...</td>\n      <td>NaN</td>\n    </tr>\n  </tbody>\n</table>\n</div>"
     },
     "execution_count": 17,
     "metadata": {},
     "output_type": "execute_result"
    }
   ],
   "source": [
    "df[['alternate_name', 'application_process', 'audience', 'description',\n",
    "       'eligibility']]"
   ]
  },
  {
   "cell_type": "code",
   "execution_count": 18,
   "metadata": {
    "ExecuteTime": {
     "end_time": "2023-08-13T20:39:10.266439700Z",
     "start_time": "2023-08-13T20:39:09.509526600Z"
    }
   },
   "outputs": [],
   "source": [
    "df1 = pd.read_excel(\"LUSID Excel - Setting up your market data.xlsx\")"
   ]
  },
  {
   "cell_type": "code",
   "execution_count": 19,
   "metadata": {
    "ExecuteTime": {
     "end_time": "2023-08-13T20:39:10.353548900Z",
     "start_time": "2023-08-13T20:39:10.256269800Z"
    }
   },
   "outputs": [
    {
     "data": {
      "text/plain": "   Unnamed: 0  Unnamed: 1  Unnamed: 2  \\\n0         NaN         NaN         NaN   \n1         NaN         NaN         NaN   \n2         NaN         NaN         NaN   \n3         NaN         NaN         NaN   \n4         NaN         NaN         NaN   \n5         NaN         NaN         NaN   \n\n                                          Unnamed: 3  \\\n0                                                NaN   \n1                                 Datetimes in LUSID   \n2                                                NaN   \n3   This sheet allows you to format datetimes for...   \n4        If you have any questions please visit our:   \n5                                                NaN   \n\n                  Unnamed: 4 Unnamed: 5  Unnamed: 6 Unnamed: 7 Unnamed: 8  \\\n0                        NaN        NaN         NaN        NaN        NaN   \n1                        NaN        NaN         NaN        NaN        NaN   \n2                        NaN        NaN         NaN        NaN        NaN   \n3                        NaN        NaN         NaN        NaN        NaN   \n4                        NaN        NaN         NaN        NaN        NaN   \n5  Getting Started tutorials        NaN         NaN        NaN        NaN   \n\n  Unnamed: 9  \n0        NaN  \n1        NaN  \n2        NaN  \n3        NaN  \n4        NaN  \n5        NaN  ",
      "text/html": "<div>\n<style scoped>\n    .dataframe tbody tr th:only-of-type {\n        vertical-align: middle;\n    }\n\n    .dataframe tbody tr th {\n        vertical-align: top;\n    }\n\n    .dataframe thead th {\n        text-align: right;\n    }\n</style>\n<table border=\"1\" class=\"dataframe\">\n  <thead>\n    <tr style=\"text-align: right;\">\n      <th></th>\n      <th>Unnamed: 0</th>\n      <th>Unnamed: 1</th>\n      <th>Unnamed: 2</th>\n      <th>Unnamed: 3</th>\n      <th>Unnamed: 4</th>\n      <th>Unnamed: 5</th>\n      <th>Unnamed: 6</th>\n      <th>Unnamed: 7</th>\n      <th>Unnamed: 8</th>\n      <th>Unnamed: 9</th>\n    </tr>\n  </thead>\n  <tbody>\n    <tr>\n      <th>0</th>\n      <td>NaN</td>\n      <td>NaN</td>\n      <td>NaN</td>\n      <td>NaN</td>\n      <td>NaN</td>\n      <td>NaN</td>\n      <td>NaN</td>\n      <td>NaN</td>\n      <td>NaN</td>\n      <td>NaN</td>\n    </tr>\n    <tr>\n      <th>1</th>\n      <td>NaN</td>\n      <td>NaN</td>\n      <td>NaN</td>\n      <td>Datetimes in LUSID</td>\n      <td>NaN</td>\n      <td>NaN</td>\n      <td>NaN</td>\n      <td>NaN</td>\n      <td>NaN</td>\n      <td>NaN</td>\n    </tr>\n    <tr>\n      <th>2</th>\n      <td>NaN</td>\n      <td>NaN</td>\n      <td>NaN</td>\n      <td>NaN</td>\n      <td>NaN</td>\n      <td>NaN</td>\n      <td>NaN</td>\n      <td>NaN</td>\n      <td>NaN</td>\n      <td>NaN</td>\n    </tr>\n    <tr>\n      <th>3</th>\n      <td>NaN</td>\n      <td>NaN</td>\n      <td>NaN</td>\n      <td>This sheet allows you to format datetimes for...</td>\n      <td>NaN</td>\n      <td>NaN</td>\n      <td>NaN</td>\n      <td>NaN</td>\n      <td>NaN</td>\n      <td>NaN</td>\n    </tr>\n    <tr>\n      <th>4</th>\n      <td>NaN</td>\n      <td>NaN</td>\n      <td>NaN</td>\n      <td>If you have any questions please visit our:</td>\n      <td>NaN</td>\n      <td>NaN</td>\n      <td>NaN</td>\n      <td>NaN</td>\n      <td>NaN</td>\n      <td>NaN</td>\n    </tr>\n    <tr>\n      <th>5</th>\n      <td>NaN</td>\n      <td>NaN</td>\n      <td>NaN</td>\n      <td>NaN</td>\n      <td>Getting Started tutorials</td>\n      <td>NaN</td>\n      <td>NaN</td>\n      <td>NaN</td>\n      <td>NaN</td>\n      <td>NaN</td>\n    </tr>\n  </tbody>\n</table>\n</div>"
     },
     "execution_count": 19,
     "metadata": {},
     "output_type": "execute_result"
    }
   ],
   "source": [
    "df1.head(6)"
   ]
  },
  {
   "cell_type": "code",
   "execution_count": 20,
   "metadata": {
    "ExecuteTime": {
     "end_time": "2023-08-13T20:39:10.450982900Z",
     "start_time": "2023-08-13T20:39:10.301445700Z"
    }
   },
   "outputs": [
    {
     "data": {
      "text/plain": "    Unnamed: 0  Unnamed: 1  Unnamed: 2 Unnamed: 3  \\\n22         NaN         NaN         NaN        NaN   \n23         NaN         NaN         NaN        NaN   \n24         NaN         NaN         NaN        NaN   \n25         NaN         NaN         NaN        NaN   \n26         NaN         NaN         NaN        NaN   \n27         NaN         NaN         NaN        NaN   \n\n                                          Unnamed: 4  \\\n22                                               NaN   \n23  Although the date can still appears without time   \n24                                               NaN   \n25                      Add an hour to your datetime   \n26                                               NaN   \n27              Subtract a minute from your datetime   \n\n                    Unnamed: 5  Unnamed: 6 Unnamed: 7 Unnamed: 8 Unnamed: 9  \n22                         NaN         NaN        NaN        NaN        NaN  \n23  2019-04-10 13:30:45.550000         NaN        NaN        NaN        NaN  \n24                         NaN         NaN        NaN        NaN        NaN  \n25  2019-04-10 14:30:45.550000         NaN        NaN        NaN        NaN  \n26                         NaN         NaN        NaN        NaN        NaN  \n27  2019-04-10 14:29:45.550000         NaN        NaN        NaN        NaN  ",
      "text/html": "<div>\n<style scoped>\n    .dataframe tbody tr th:only-of-type {\n        vertical-align: middle;\n    }\n\n    .dataframe tbody tr th {\n        vertical-align: top;\n    }\n\n    .dataframe thead th {\n        text-align: right;\n    }\n</style>\n<table border=\"1\" class=\"dataframe\">\n  <thead>\n    <tr style=\"text-align: right;\">\n      <th></th>\n      <th>Unnamed: 0</th>\n      <th>Unnamed: 1</th>\n      <th>Unnamed: 2</th>\n      <th>Unnamed: 3</th>\n      <th>Unnamed: 4</th>\n      <th>Unnamed: 5</th>\n      <th>Unnamed: 6</th>\n      <th>Unnamed: 7</th>\n      <th>Unnamed: 8</th>\n      <th>Unnamed: 9</th>\n    </tr>\n  </thead>\n  <tbody>\n    <tr>\n      <th>22</th>\n      <td>NaN</td>\n      <td>NaN</td>\n      <td>NaN</td>\n      <td>NaN</td>\n      <td>NaN</td>\n      <td>NaN</td>\n      <td>NaN</td>\n      <td>NaN</td>\n      <td>NaN</td>\n      <td>NaN</td>\n    </tr>\n    <tr>\n      <th>23</th>\n      <td>NaN</td>\n      <td>NaN</td>\n      <td>NaN</td>\n      <td>NaN</td>\n      <td>Although the date can still appears without time</td>\n      <td>2019-04-10 13:30:45.550000</td>\n      <td>NaN</td>\n      <td>NaN</td>\n      <td>NaN</td>\n      <td>NaN</td>\n    </tr>\n    <tr>\n      <th>24</th>\n      <td>NaN</td>\n      <td>NaN</td>\n      <td>NaN</td>\n      <td>NaN</td>\n      <td>NaN</td>\n      <td>NaN</td>\n      <td>NaN</td>\n      <td>NaN</td>\n      <td>NaN</td>\n      <td>NaN</td>\n    </tr>\n    <tr>\n      <th>25</th>\n      <td>NaN</td>\n      <td>NaN</td>\n      <td>NaN</td>\n      <td>NaN</td>\n      <td>Add an hour to your datetime</td>\n      <td>2019-04-10 14:30:45.550000</td>\n      <td>NaN</td>\n      <td>NaN</td>\n      <td>NaN</td>\n      <td>NaN</td>\n    </tr>\n    <tr>\n      <th>26</th>\n      <td>NaN</td>\n      <td>NaN</td>\n      <td>NaN</td>\n      <td>NaN</td>\n      <td>NaN</td>\n      <td>NaN</td>\n      <td>NaN</td>\n      <td>NaN</td>\n      <td>NaN</td>\n      <td>NaN</td>\n    </tr>\n    <tr>\n      <th>27</th>\n      <td>NaN</td>\n      <td>NaN</td>\n      <td>NaN</td>\n      <td>NaN</td>\n      <td>Subtract a minute from your datetime</td>\n      <td>2019-04-10 14:29:45.550000</td>\n      <td>NaN</td>\n      <td>NaN</td>\n      <td>NaN</td>\n      <td>NaN</td>\n    </tr>\n  </tbody>\n</table>\n</div>"
     },
     "execution_count": 20,
     "metadata": {},
     "output_type": "execute_result"
    }
   ],
   "source": [
    "df1.tail(6)"
   ]
  },
  {
   "cell_type": "code",
   "execution_count": 21,
   "metadata": {
    "ExecuteTime": {
     "end_time": "2023-08-13T20:39:10.536997300Z",
     "start_time": "2023-08-13T20:39:10.354543Z"
    }
   },
   "outputs": [
    {
     "data": {
      "text/plain": "Unnamed: 0    float64\nUnnamed: 1    float64\nUnnamed: 2    float64\nUnnamed: 3     object\nUnnamed: 4     object\nUnnamed: 5     object\nUnnamed: 6    float64\nUnnamed: 7     object\nUnnamed: 8     object\nUnnamed: 9     object\ndtype: object"
     },
     "execution_count": 21,
     "metadata": {},
     "output_type": "execute_result"
    }
   ],
   "source": [
    "df1.dtypes"
   ]
  },
  {
   "cell_type": "code",
   "execution_count": 22,
   "metadata": {
    "ExecuteTime": {
     "end_time": "2023-08-13T20:39:10.585994Z",
     "start_time": "2023-08-13T20:39:10.382540900Z"
    }
   },
   "outputs": [
    {
     "data": {
      "text/plain": "Index(['Unnamed: 0', 'Unnamed: 1', 'Unnamed: 2', 'Unnamed: 3', 'Unnamed: 4',\n       'Unnamed: 5', 'Unnamed: 6', 'Unnamed: 7', 'Unnamed: 8', 'Unnamed: 9'],\n      dtype='object')"
     },
     "execution_count": 22,
     "metadata": {},
     "output_type": "execute_result"
    }
   ],
   "source": [
    "df1.columns"
   ]
  },
  {
   "cell_type": "code",
   "execution_count": 23,
   "metadata": {
    "ExecuteTime": {
     "end_time": "2023-08-13T20:39:10.587992700Z",
     "start_time": "2023-08-13T20:39:10.394538800Z"
    }
   },
   "outputs": [
    {
     "data": {
      "text/plain": "0    NaN\n1    NaN\n2    NaN\n3    NaN\n4    NaN\n5    NaN\n6    NaN\n7    NaN\n8    NaN\n9    NaN\n10   NaN\n11   NaN\n12   NaN\n13   NaN\n14   NaN\n15   NaN\n16   NaN\n17   NaN\n18   NaN\n19   NaN\n20   NaN\n21   NaN\n22   NaN\n23   NaN\n24   NaN\n25   NaN\n26   NaN\n27   NaN\nName: Unnamed: 0, dtype: float64"
     },
     "execution_count": 23,
     "metadata": {},
     "output_type": "execute_result"
    }
   ],
   "source": [
    "df1[\"Unnamed: 0\"]"
   ]
  },
  {
   "cell_type": "code",
   "execution_count": 24,
   "metadata": {
    "ExecuteTime": {
     "end_time": "2023-08-13T20:39:10.588986700Z",
     "start_time": "2023-08-13T20:39:10.413543700Z"
    }
   },
   "outputs": [
    {
     "data": {
      "text/plain": "    Unnamed: 6                                         Unnamed: 7  \\\n0          NaN                                                NaN   \n1          NaN                                                NaN   \n2          NaN                                                NaN   \n3          NaN                                                NaN   \n4          NaN                                                NaN   \n5          NaN                                                NaN   \n6          NaN                                                NaN   \n7          NaN                                                NaN   \n8          NaN                                                NaN   \n9          NaN                                                NaN   \n10         NaN                                                NaN   \n11         NaN  LUSID also accepts UTC, UTS offsets and cutlabels   \n12         NaN                                                NaN   \n13         NaN                                 Additional formats   \n14         NaN                                                NaN   \n15         NaN                            Standard UTC timestamp:   \n16         NaN                                                NaN   \n17         NaN                         Convert date into a string   \n18         NaN                                                NaN   \n19         NaN       UTC offset (not recognised as an excel date)   \n20         NaN                                                NaN   \n21         NaN                                           Cutlabel   \n22         NaN                                                NaN   \n23         NaN                                                NaN   \n24         NaN                                                NaN   \n25         NaN                                                NaN   \n26         NaN                                                NaN   \n27         NaN                                                NaN   \n\n                   Unnamed: 8  \n0                         NaN  \n1                         NaN  \n2                         NaN  \n3                         NaN  \n4                         NaN  \n5                         NaN  \n6                         NaN  \n7                         NaN  \n8                         NaN  \n9                         NaN  \n10                        NaN  \n11                        NaN  \n12                        NaN  \n13                        NaN  \n14                        NaN  \n15  \"YYYY-MM-DDTHH:MM:SS.00Z\"  \n16                        NaN  \n17   2019-04-10T 13:30:45.55Z  \n18                        NaN  \n19  2019-04-10T13:30:45+04:00  \n20                        NaN  \n21  2019-04-10NSingaporeClose  \n22                        NaN  \n23                        NaN  \n24                        NaN  \n25                        NaN  \n26                        NaN  \n27                        NaN  ",
      "text/html": "<div>\n<style scoped>\n    .dataframe tbody tr th:only-of-type {\n        vertical-align: middle;\n    }\n\n    .dataframe tbody tr th {\n        vertical-align: top;\n    }\n\n    .dataframe thead th {\n        text-align: right;\n    }\n</style>\n<table border=\"1\" class=\"dataframe\">\n  <thead>\n    <tr style=\"text-align: right;\">\n      <th></th>\n      <th>Unnamed: 6</th>\n      <th>Unnamed: 7</th>\n      <th>Unnamed: 8</th>\n    </tr>\n  </thead>\n  <tbody>\n    <tr>\n      <th>0</th>\n      <td>NaN</td>\n      <td>NaN</td>\n      <td>NaN</td>\n    </tr>\n    <tr>\n      <th>1</th>\n      <td>NaN</td>\n      <td>NaN</td>\n      <td>NaN</td>\n    </tr>\n    <tr>\n      <th>2</th>\n      <td>NaN</td>\n      <td>NaN</td>\n      <td>NaN</td>\n    </tr>\n    <tr>\n      <th>3</th>\n      <td>NaN</td>\n      <td>NaN</td>\n      <td>NaN</td>\n    </tr>\n    <tr>\n      <th>4</th>\n      <td>NaN</td>\n      <td>NaN</td>\n      <td>NaN</td>\n    </tr>\n    <tr>\n      <th>5</th>\n      <td>NaN</td>\n      <td>NaN</td>\n      <td>NaN</td>\n    </tr>\n    <tr>\n      <th>6</th>\n      <td>NaN</td>\n      <td>NaN</td>\n      <td>NaN</td>\n    </tr>\n    <tr>\n      <th>7</th>\n      <td>NaN</td>\n      <td>NaN</td>\n      <td>NaN</td>\n    </tr>\n    <tr>\n      <th>8</th>\n      <td>NaN</td>\n      <td>NaN</td>\n      <td>NaN</td>\n    </tr>\n    <tr>\n      <th>9</th>\n      <td>NaN</td>\n      <td>NaN</td>\n      <td>NaN</td>\n    </tr>\n    <tr>\n      <th>10</th>\n      <td>NaN</td>\n      <td>NaN</td>\n      <td>NaN</td>\n    </tr>\n    <tr>\n      <th>11</th>\n      <td>NaN</td>\n      <td>LUSID also accepts UTC, UTS offsets and cutlabels</td>\n      <td>NaN</td>\n    </tr>\n    <tr>\n      <th>12</th>\n      <td>NaN</td>\n      <td>NaN</td>\n      <td>NaN</td>\n    </tr>\n    <tr>\n      <th>13</th>\n      <td>NaN</td>\n      <td>Additional formats</td>\n      <td>NaN</td>\n    </tr>\n    <tr>\n      <th>14</th>\n      <td>NaN</td>\n      <td>NaN</td>\n      <td>NaN</td>\n    </tr>\n    <tr>\n      <th>15</th>\n      <td>NaN</td>\n      <td>Standard UTC timestamp:</td>\n      <td>\"YYYY-MM-DDTHH:MM:SS.00Z\"</td>\n    </tr>\n    <tr>\n      <th>16</th>\n      <td>NaN</td>\n      <td>NaN</td>\n      <td>NaN</td>\n    </tr>\n    <tr>\n      <th>17</th>\n      <td>NaN</td>\n      <td>Convert date into a string</td>\n      <td>2019-04-10T 13:30:45.55Z</td>\n    </tr>\n    <tr>\n      <th>18</th>\n      <td>NaN</td>\n      <td>NaN</td>\n      <td>NaN</td>\n    </tr>\n    <tr>\n      <th>19</th>\n      <td>NaN</td>\n      <td>UTC offset (not recognised as an excel date)</td>\n      <td>2019-04-10T13:30:45+04:00</td>\n    </tr>\n    <tr>\n      <th>20</th>\n      <td>NaN</td>\n      <td>NaN</td>\n      <td>NaN</td>\n    </tr>\n    <tr>\n      <th>21</th>\n      <td>NaN</td>\n      <td>Cutlabel</td>\n      <td>2019-04-10NSingaporeClose</td>\n    </tr>\n    <tr>\n      <th>22</th>\n      <td>NaN</td>\n      <td>NaN</td>\n      <td>NaN</td>\n    </tr>\n    <tr>\n      <th>23</th>\n      <td>NaN</td>\n      <td>NaN</td>\n      <td>NaN</td>\n    </tr>\n    <tr>\n      <th>24</th>\n      <td>NaN</td>\n      <td>NaN</td>\n      <td>NaN</td>\n    </tr>\n    <tr>\n      <th>25</th>\n      <td>NaN</td>\n      <td>NaN</td>\n      <td>NaN</td>\n    </tr>\n    <tr>\n      <th>26</th>\n      <td>NaN</td>\n      <td>NaN</td>\n      <td>NaN</td>\n    </tr>\n    <tr>\n      <th>27</th>\n      <td>NaN</td>\n      <td>NaN</td>\n      <td>NaN</td>\n    </tr>\n  </tbody>\n</table>\n</div>"
     },
     "execution_count": 24,
     "metadata": {},
     "output_type": "execute_result"
    }
   ],
   "source": [
    "df1[['Unnamed: 6', 'Unnamed: 7', 'Unnamed: 8']]"
   ]
  },
  {
   "cell_type": "code",
   "execution_count": 25,
   "metadata": {
    "ExecuteTime": {
     "end_time": "2023-08-13T20:39:10.624992400Z",
     "start_time": "2023-08-13T20:39:10.441992300Z"
    }
   },
   "outputs": [],
   "source": [
    "df2 =pd.read_csv(\"titanic.csv\")"
   ]
  },
  {
   "cell_type": "code",
   "execution_count": 26,
   "metadata": {
    "ExecuteTime": {
     "end_time": "2023-08-13T20:39:10.625990900Z",
     "start_time": "2023-08-13T20:39:10.478996500Z"
    }
   },
   "outputs": [
    {
     "data": {
      "text/plain": "PassengerId      int64\nSurvived         int64\nPclass           int64\nName            object\nSex             object\nAge            float64\nSibSp            int64\nParch            int64\nTicket          object\nFare           float64\nCabin           object\nEmbarked        object\ndtype: object"
     },
     "execution_count": 26,
     "metadata": {},
     "output_type": "execute_result"
    }
   ],
   "source": [
    "df2.dtypes"
   ]
  },
  {
   "cell_type": "code",
   "execution_count": 27,
   "metadata": {
    "ExecuteTime": {
     "end_time": "2023-08-13T20:39:10.713994700Z",
     "start_time": "2023-08-13T20:39:10.492992200Z"
    }
   },
   "outputs": [
    {
     "data": {
      "text/plain": "   PassengerId  Survived  Pclass  \\\n0            1         0       3   \n1            2         1       1   \n2            3         1       3   \n\n                                                Name     Sex   Age  SibSp  \\\n0                            Braund, Mr. Owen Harris    male  22.0      1   \n1  Cumings, Mrs. John Bradley (Florence Briggs Th...  female  38.0      1   \n2                             Heikkinen, Miss. Laina  female  26.0      0   \n\n   Parch            Ticket     Fare Cabin Embarked  \n0      0         A/5 21171   7.2500   NaN        S  \n1      0          PC 17599  71.2833   C85        C  \n2      0  STON/O2. 3101282   7.9250   NaN        S  ",
      "text/html": "<div>\n<style scoped>\n    .dataframe tbody tr th:only-of-type {\n        vertical-align: middle;\n    }\n\n    .dataframe tbody tr th {\n        vertical-align: top;\n    }\n\n    .dataframe thead th {\n        text-align: right;\n    }\n</style>\n<table border=\"1\" class=\"dataframe\">\n  <thead>\n    <tr style=\"text-align: right;\">\n      <th></th>\n      <th>PassengerId</th>\n      <th>Survived</th>\n      <th>Pclass</th>\n      <th>Name</th>\n      <th>Sex</th>\n      <th>Age</th>\n      <th>SibSp</th>\n      <th>Parch</th>\n      <th>Ticket</th>\n      <th>Fare</th>\n      <th>Cabin</th>\n      <th>Embarked</th>\n    </tr>\n  </thead>\n  <tbody>\n    <tr>\n      <th>0</th>\n      <td>1</td>\n      <td>0</td>\n      <td>3</td>\n      <td>Braund, Mr. Owen Harris</td>\n      <td>male</td>\n      <td>22.0</td>\n      <td>1</td>\n      <td>0</td>\n      <td>A/5 21171</td>\n      <td>7.2500</td>\n      <td>NaN</td>\n      <td>S</td>\n    </tr>\n    <tr>\n      <th>1</th>\n      <td>2</td>\n      <td>1</td>\n      <td>1</td>\n      <td>Cumings, Mrs. John Bradley (Florence Briggs Th...</td>\n      <td>female</td>\n      <td>38.0</td>\n      <td>1</td>\n      <td>0</td>\n      <td>PC 17599</td>\n      <td>71.2833</td>\n      <td>C85</td>\n      <td>C</td>\n    </tr>\n    <tr>\n      <th>2</th>\n      <td>3</td>\n      <td>1</td>\n      <td>3</td>\n      <td>Heikkinen, Miss. Laina</td>\n      <td>female</td>\n      <td>26.0</td>\n      <td>0</td>\n      <td>0</td>\n      <td>STON/O2. 3101282</td>\n      <td>7.9250</td>\n      <td>NaN</td>\n      <td>S</td>\n    </tr>\n  </tbody>\n</table>\n</div>"
     },
     "execution_count": 27,
     "metadata": {},
     "output_type": "execute_result"
    }
   ],
   "source": [
    "df2.head(3)"
   ]
  },
  {
   "cell_type": "code",
   "execution_count": 28,
   "metadata": {
    "ExecuteTime": {
     "end_time": "2023-08-13T20:39:10.714998600Z",
     "start_time": "2023-08-13T20:39:10.523988300Z"
    }
   },
   "outputs": [
    {
     "data": {
      "text/plain": "     PassengerId  Survived  Pclass                                      Name  \\\n888          889         0       3  Johnston, Miss. Catherine Helen \"Carrie\"   \n889          890         1       1                     Behr, Mr. Karl Howell   \n890          891         0       3                       Dooley, Mr. Patrick   \n\n        Sex   Age  SibSp  Parch      Ticket   Fare Cabin Embarked  \n888  female   NaN      1      2  W./C. 6607  23.45   NaN        S  \n889    male  26.0      0      0      111369  30.00  C148        C  \n890    male  32.0      0      0      370376   7.75   NaN        Q  ",
      "text/html": "<div>\n<style scoped>\n    .dataframe tbody tr th:only-of-type {\n        vertical-align: middle;\n    }\n\n    .dataframe tbody tr th {\n        vertical-align: top;\n    }\n\n    .dataframe thead th {\n        text-align: right;\n    }\n</style>\n<table border=\"1\" class=\"dataframe\">\n  <thead>\n    <tr style=\"text-align: right;\">\n      <th></th>\n      <th>PassengerId</th>\n      <th>Survived</th>\n      <th>Pclass</th>\n      <th>Name</th>\n      <th>Sex</th>\n      <th>Age</th>\n      <th>SibSp</th>\n      <th>Parch</th>\n      <th>Ticket</th>\n      <th>Fare</th>\n      <th>Cabin</th>\n      <th>Embarked</th>\n    </tr>\n  </thead>\n  <tbody>\n    <tr>\n      <th>888</th>\n      <td>889</td>\n      <td>0</td>\n      <td>3</td>\n      <td>Johnston, Miss. Catherine Helen \"Carrie\"</td>\n      <td>female</td>\n      <td>NaN</td>\n      <td>1</td>\n      <td>2</td>\n      <td>W./C. 6607</td>\n      <td>23.45</td>\n      <td>NaN</td>\n      <td>S</td>\n    </tr>\n    <tr>\n      <th>889</th>\n      <td>890</td>\n      <td>1</td>\n      <td>1</td>\n      <td>Behr, Mr. Karl Howell</td>\n      <td>male</td>\n      <td>26.0</td>\n      <td>0</td>\n      <td>0</td>\n      <td>111369</td>\n      <td>30.00</td>\n      <td>C148</td>\n      <td>C</td>\n    </tr>\n    <tr>\n      <th>890</th>\n      <td>891</td>\n      <td>0</td>\n      <td>3</td>\n      <td>Dooley, Mr. Patrick</td>\n      <td>male</td>\n      <td>32.0</td>\n      <td>0</td>\n      <td>0</td>\n      <td>370376</td>\n      <td>7.75</td>\n      <td>NaN</td>\n      <td>Q</td>\n    </tr>\n  </tbody>\n</table>\n</div>"
     },
     "execution_count": 28,
     "metadata": {},
     "output_type": "execute_result"
    }
   ],
   "source": [
    "df2.tail(3)"
   ]
  },
  {
   "cell_type": "code",
   "execution_count": 29,
   "metadata": {
    "ExecuteTime": {
     "end_time": "2023-08-13T20:39:10.856991900Z",
     "start_time": "2023-08-13T20:39:10.555010Z"
    }
   },
   "outputs": [
    {
     "data": {
      "text/plain": "Index(['PassengerId', 'Survived', 'Pclass', 'Name', 'Sex', 'Age', 'SibSp',\n       'Parch', 'Ticket', 'Fare', 'Cabin', 'Embarked'],\n      dtype='object')"
     },
     "execution_count": 29,
     "metadata": {},
     "output_type": "execute_result"
    }
   ],
   "source": [
    "df2.columns"
   ]
  },
  {
   "cell_type": "code",
   "execution_count": 30,
   "metadata": {
    "ExecuteTime": {
     "end_time": "2023-08-13T20:39:10.860991800Z",
     "start_time": "2023-08-13T20:39:10.585994Z"
    }
   },
   "outputs": [
    {
     "data": {
      "text/plain": "0       7.2500\n1      71.2833\n2       7.9250\n3      53.1000\n4       8.0500\n        ...   \n886    13.0000\n887    30.0000\n888    23.4500\n889    30.0000\n890     7.7500\nName: Fare, Length: 891, dtype: float64"
     },
     "execution_count": 30,
     "metadata": {},
     "output_type": "execute_result"
    }
   ],
   "source": [
    "df2[\"Fare\"]"
   ]
  },
  {
   "cell_type": "code",
   "execution_count": 31,
   "metadata": {
    "ExecuteTime": {
     "end_time": "2023-08-13T20:39:10.861996300Z",
     "start_time": "2023-08-13T20:39:10.619990300Z"
    }
   },
   "outputs": [
    {
     "data": {
      "text/plain": "pandas.core.series.Series"
     },
     "execution_count": 31,
     "metadata": {},
     "output_type": "execute_result"
    }
   ],
   "source": [
    "type(df2[\"Fare\"])"
   ]
  },
  {
   "cell_type": "code",
   "execution_count": 32,
   "metadata": {
    "ExecuteTime": {
     "end_time": "2023-08-13T20:39:10.921007200Z",
     "start_time": "2023-08-13T20:39:10.633995800Z"
    }
   },
   "outputs": [
    {
     "data": {
      "text/plain": "     Survived  Pclass                                               Name\n0           0       3                            Braund, Mr. Owen Harris\n1           1       1  Cumings, Mrs. John Bradley (Florence Briggs Th...\n2           1       3                             Heikkinen, Miss. Laina\n3           1       1       Futrelle, Mrs. Jacques Heath (Lily May Peel)\n4           0       3                           Allen, Mr. William Henry\n..        ...     ...                                                ...\n886         0       2                              Montvila, Rev. Juozas\n887         1       1                       Graham, Miss. Margaret Edith\n888         0       3           Johnston, Miss. Catherine Helen \"Carrie\"\n889         1       1                              Behr, Mr. Karl Howell\n890         0       3                                Dooley, Mr. Patrick\n\n[891 rows x 3 columns]",
      "text/html": "<div>\n<style scoped>\n    .dataframe tbody tr th:only-of-type {\n        vertical-align: middle;\n    }\n\n    .dataframe tbody tr th {\n        vertical-align: top;\n    }\n\n    .dataframe thead th {\n        text-align: right;\n    }\n</style>\n<table border=\"1\" class=\"dataframe\">\n  <thead>\n    <tr style=\"text-align: right;\">\n      <th></th>\n      <th>Survived</th>\n      <th>Pclass</th>\n      <th>Name</th>\n    </tr>\n  </thead>\n  <tbody>\n    <tr>\n      <th>0</th>\n      <td>0</td>\n      <td>3</td>\n      <td>Braund, Mr. Owen Harris</td>\n    </tr>\n    <tr>\n      <th>1</th>\n      <td>1</td>\n      <td>1</td>\n      <td>Cumings, Mrs. John Bradley (Florence Briggs Th...</td>\n    </tr>\n    <tr>\n      <th>2</th>\n      <td>1</td>\n      <td>3</td>\n      <td>Heikkinen, Miss. Laina</td>\n    </tr>\n    <tr>\n      <th>3</th>\n      <td>1</td>\n      <td>1</td>\n      <td>Futrelle, Mrs. Jacques Heath (Lily May Peel)</td>\n    </tr>\n    <tr>\n      <th>4</th>\n      <td>0</td>\n      <td>3</td>\n      <td>Allen, Mr. William Henry</td>\n    </tr>\n    <tr>\n      <th>...</th>\n      <td>...</td>\n      <td>...</td>\n      <td>...</td>\n    </tr>\n    <tr>\n      <th>886</th>\n      <td>0</td>\n      <td>2</td>\n      <td>Montvila, Rev. Juozas</td>\n    </tr>\n    <tr>\n      <th>887</th>\n      <td>1</td>\n      <td>1</td>\n      <td>Graham, Miss. Margaret Edith</td>\n    </tr>\n    <tr>\n      <th>888</th>\n      <td>0</td>\n      <td>3</td>\n      <td>Johnston, Miss. Catherine Helen \"Carrie\"</td>\n    </tr>\n    <tr>\n      <th>889</th>\n      <td>1</td>\n      <td>1</td>\n      <td>Behr, Mr. Karl Howell</td>\n    </tr>\n    <tr>\n      <th>890</th>\n      <td>0</td>\n      <td>3</td>\n      <td>Dooley, Mr. Patrick</td>\n    </tr>\n  </tbody>\n</table>\n<p>891 rows × 3 columns</p>\n</div>"
     },
     "execution_count": 32,
     "metadata": {},
     "output_type": "execute_result"
    }
   ],
   "source": [
    "df2[['Survived', 'Pclass', 'Name']]"
   ]
  },
  {
   "cell_type": "code",
   "execution_count": 33,
   "metadata": {
    "ExecuteTime": {
     "end_time": "2023-08-13T20:39:10.922004300Z",
     "start_time": "2023-08-13T20:39:10.668987300Z"
    }
   },
   "outputs": [],
   "source": [
    "df2.to_csv(\"titanic_data.csv\",index=False)"
   ]
  },
  {
   "cell_type": "code",
   "execution_count": 34,
   "metadata": {
    "ExecuteTime": {
     "end_time": "2023-08-13T20:39:11.869115600Z",
     "start_time": "2023-08-13T20:39:10.697987100Z"
    }
   },
   "outputs": [],
   "source": [
    "url = pd.read_html(\"https://www.basketball-reference.com/leagues/NBA_2015_totals.html\",encoding='utf-8')"
   ]
  },
  {
   "cell_type": "code",
   "execution_count": 35,
   "metadata": {
    "ExecuteTime": {
     "end_time": "2023-08-13T20:39:11.889109800Z",
     "start_time": "2023-08-13T20:39:11.872114100Z"
    }
   },
   "outputs": [
    {
     "data": {
      "text/plain": "list"
     },
     "execution_count": 35,
     "metadata": {},
     "output_type": "execute_result"
    }
   ],
   "source": [
    "type(url)"
   ]
  },
  {
   "cell_type": "code",
   "execution_count": 36,
   "metadata": {
    "ExecuteTime": {
     "end_time": "2023-08-13T20:39:11.986291100Z",
     "start_time": "2023-08-13T20:39:11.888111300Z"
    }
   },
   "outputs": [
    {
     "data": {
      "text/plain": "1"
     },
     "execution_count": 36,
     "metadata": {},
     "output_type": "execute_result"
    }
   ],
   "source": [
    "len(url)"
   ]
  },
  {
   "cell_type": "code",
   "execution_count": 37,
   "metadata": {
    "ExecuteTime": {
     "end_time": "2023-08-13T20:39:11.987300200Z",
     "start_time": "2023-08-13T20:39:11.903110800Z"
    }
   },
   "outputs": [],
   "source": [
    "df4 = url[0]"
   ]
  },
  {
   "cell_type": "code",
   "execution_count": 38,
   "metadata": {
    "ExecuteTime": {
     "end_time": "2023-08-13T20:39:11.990295800Z",
     "start_time": "2023-08-13T20:39:11.918116700Z"
    }
   },
   "outputs": [
    {
     "data": {
      "text/plain": "  Rk         Player Pos Age   Tm   G  GS    MP   FG  FGA  ...   FT%  ORB  DRB  \\\n0  1     Quincy Acy  PF  24  NYK  68  22  1287  152  331  ...  .784   79  222   \n1  2   Jordan Adams  SG  20  MEM  30   0   248   35   86  ...  .609    9   19   \n2  3   Steven Adams   C  21  OKC  70  67  1771  217  399  ...  .502  199  324   \n3  4    Jeff Adrien  PF  28  MIN  17   0   215   19   44  ...  .579   23   54   \n4  5  Arron Afflalo  SG  29  TOT  78  72  2502  375  884  ...  .843   27  220   \n\n   TRB  AST STL BLK  TOV   PF   PTS  \n0  301   68  27  22   60  147   398  \n1   28   16  16   7   14   24    94  \n2  523   66  38  86   99  222   537  \n3   77   15   4   9    9   30    60  \n4  247  129  41   7  116  167  1035  \n\n[5 rows x 30 columns]",
      "text/html": "<div>\n<style scoped>\n    .dataframe tbody tr th:only-of-type {\n        vertical-align: middle;\n    }\n\n    .dataframe tbody tr th {\n        vertical-align: top;\n    }\n\n    .dataframe thead th {\n        text-align: right;\n    }\n</style>\n<table border=\"1\" class=\"dataframe\">\n  <thead>\n    <tr style=\"text-align: right;\">\n      <th></th>\n      <th>Rk</th>\n      <th>Player</th>\n      <th>Pos</th>\n      <th>Age</th>\n      <th>Tm</th>\n      <th>G</th>\n      <th>GS</th>\n      <th>MP</th>\n      <th>FG</th>\n      <th>FGA</th>\n      <th>...</th>\n      <th>FT%</th>\n      <th>ORB</th>\n      <th>DRB</th>\n      <th>TRB</th>\n      <th>AST</th>\n      <th>STL</th>\n      <th>BLK</th>\n      <th>TOV</th>\n      <th>PF</th>\n      <th>PTS</th>\n    </tr>\n  </thead>\n  <tbody>\n    <tr>\n      <th>0</th>\n      <td>1</td>\n      <td>Quincy Acy</td>\n      <td>PF</td>\n      <td>24</td>\n      <td>NYK</td>\n      <td>68</td>\n      <td>22</td>\n      <td>1287</td>\n      <td>152</td>\n      <td>331</td>\n      <td>...</td>\n      <td>.784</td>\n      <td>79</td>\n      <td>222</td>\n      <td>301</td>\n      <td>68</td>\n      <td>27</td>\n      <td>22</td>\n      <td>60</td>\n      <td>147</td>\n      <td>398</td>\n    </tr>\n    <tr>\n      <th>1</th>\n      <td>2</td>\n      <td>Jordan Adams</td>\n      <td>SG</td>\n      <td>20</td>\n      <td>MEM</td>\n      <td>30</td>\n      <td>0</td>\n      <td>248</td>\n      <td>35</td>\n      <td>86</td>\n      <td>...</td>\n      <td>.609</td>\n      <td>9</td>\n      <td>19</td>\n      <td>28</td>\n      <td>16</td>\n      <td>16</td>\n      <td>7</td>\n      <td>14</td>\n      <td>24</td>\n      <td>94</td>\n    </tr>\n    <tr>\n      <th>2</th>\n      <td>3</td>\n      <td>Steven Adams</td>\n      <td>C</td>\n      <td>21</td>\n      <td>OKC</td>\n      <td>70</td>\n      <td>67</td>\n      <td>1771</td>\n      <td>217</td>\n      <td>399</td>\n      <td>...</td>\n      <td>.502</td>\n      <td>199</td>\n      <td>324</td>\n      <td>523</td>\n      <td>66</td>\n      <td>38</td>\n      <td>86</td>\n      <td>99</td>\n      <td>222</td>\n      <td>537</td>\n    </tr>\n    <tr>\n      <th>3</th>\n      <td>4</td>\n      <td>Jeff Adrien</td>\n      <td>PF</td>\n      <td>28</td>\n      <td>MIN</td>\n      <td>17</td>\n      <td>0</td>\n      <td>215</td>\n      <td>19</td>\n      <td>44</td>\n      <td>...</td>\n      <td>.579</td>\n      <td>23</td>\n      <td>54</td>\n      <td>77</td>\n      <td>15</td>\n      <td>4</td>\n      <td>9</td>\n      <td>9</td>\n      <td>30</td>\n      <td>60</td>\n    </tr>\n    <tr>\n      <th>4</th>\n      <td>5</td>\n      <td>Arron Afflalo</td>\n      <td>SG</td>\n      <td>29</td>\n      <td>TOT</td>\n      <td>78</td>\n      <td>72</td>\n      <td>2502</td>\n      <td>375</td>\n      <td>884</td>\n      <td>...</td>\n      <td>.843</td>\n      <td>27</td>\n      <td>220</td>\n      <td>247</td>\n      <td>129</td>\n      <td>41</td>\n      <td>7</td>\n      <td>116</td>\n      <td>167</td>\n      <td>1035</td>\n    </tr>\n  </tbody>\n</table>\n<p>5 rows × 30 columns</p>\n</div>"
     },
     "execution_count": 38,
     "metadata": {},
     "output_type": "execute_result"
    }
   ],
   "source": [
    "df4.head(5)"
   ]
  },
  {
   "cell_type": "code",
   "execution_count": 39,
   "metadata": {
    "ExecuteTime": {
     "end_time": "2023-08-13T20:39:12.096283800Z",
     "start_time": "2023-08-13T20:39:11.967106600Z"
    }
   },
   "outputs": [
    {
     "data": {
      "text/plain": "      Rk          Player Pos Age   Tm   G  GS    MP   FG  FGA  ...   FT%  ORB  \\\n670  490  Thaddeus Young  PF  26  TOT  76  68  2434  451  968  ...  .655  127   \n671  490  Thaddeus Young  PF  26  MIN  48  48  1605  289  641  ...  .682   75   \n672  490  Thaddeus Young  PF  26  BRK  28  20   829  162  327  ...  .606   52   \n673  491     Cody Zeller   C  22  CHO  62  45  1487  172  373  ...  .774   97   \n674  492    Tyler Zeller   C  25  BOS  82  59  1731  340  619  ...  .823  146   \n\n     DRB  TRB  AST  STL BLK  TOV   PF   PTS  \n670  284  411  173  124  25  117  171  1071  \n671  170  245  135   86  17   75  115   685  \n672  114  166   38   38   8   42   56   386  \n673  265  362  100   34  49   62  156   472  \n674  319  465  113   18  52   76  205   833  \n\n[5 rows x 30 columns]",
      "text/html": "<div>\n<style scoped>\n    .dataframe tbody tr th:only-of-type {\n        vertical-align: middle;\n    }\n\n    .dataframe tbody tr th {\n        vertical-align: top;\n    }\n\n    .dataframe thead th {\n        text-align: right;\n    }\n</style>\n<table border=\"1\" class=\"dataframe\">\n  <thead>\n    <tr style=\"text-align: right;\">\n      <th></th>\n      <th>Rk</th>\n      <th>Player</th>\n      <th>Pos</th>\n      <th>Age</th>\n      <th>Tm</th>\n      <th>G</th>\n      <th>GS</th>\n      <th>MP</th>\n      <th>FG</th>\n      <th>FGA</th>\n      <th>...</th>\n      <th>FT%</th>\n      <th>ORB</th>\n      <th>DRB</th>\n      <th>TRB</th>\n      <th>AST</th>\n      <th>STL</th>\n      <th>BLK</th>\n      <th>TOV</th>\n      <th>PF</th>\n      <th>PTS</th>\n    </tr>\n  </thead>\n  <tbody>\n    <tr>\n      <th>670</th>\n      <td>490</td>\n      <td>Thaddeus Young</td>\n      <td>PF</td>\n      <td>26</td>\n      <td>TOT</td>\n      <td>76</td>\n      <td>68</td>\n      <td>2434</td>\n      <td>451</td>\n      <td>968</td>\n      <td>...</td>\n      <td>.655</td>\n      <td>127</td>\n      <td>284</td>\n      <td>411</td>\n      <td>173</td>\n      <td>124</td>\n      <td>25</td>\n      <td>117</td>\n      <td>171</td>\n      <td>1071</td>\n    </tr>\n    <tr>\n      <th>671</th>\n      <td>490</td>\n      <td>Thaddeus Young</td>\n      <td>PF</td>\n      <td>26</td>\n      <td>MIN</td>\n      <td>48</td>\n      <td>48</td>\n      <td>1605</td>\n      <td>289</td>\n      <td>641</td>\n      <td>...</td>\n      <td>.682</td>\n      <td>75</td>\n      <td>170</td>\n      <td>245</td>\n      <td>135</td>\n      <td>86</td>\n      <td>17</td>\n      <td>75</td>\n      <td>115</td>\n      <td>685</td>\n    </tr>\n    <tr>\n      <th>672</th>\n      <td>490</td>\n      <td>Thaddeus Young</td>\n      <td>PF</td>\n      <td>26</td>\n      <td>BRK</td>\n      <td>28</td>\n      <td>20</td>\n      <td>829</td>\n      <td>162</td>\n      <td>327</td>\n      <td>...</td>\n      <td>.606</td>\n      <td>52</td>\n      <td>114</td>\n      <td>166</td>\n      <td>38</td>\n      <td>38</td>\n      <td>8</td>\n      <td>42</td>\n      <td>56</td>\n      <td>386</td>\n    </tr>\n    <tr>\n      <th>673</th>\n      <td>491</td>\n      <td>Cody Zeller</td>\n      <td>C</td>\n      <td>22</td>\n      <td>CHO</td>\n      <td>62</td>\n      <td>45</td>\n      <td>1487</td>\n      <td>172</td>\n      <td>373</td>\n      <td>...</td>\n      <td>.774</td>\n      <td>97</td>\n      <td>265</td>\n      <td>362</td>\n      <td>100</td>\n      <td>34</td>\n      <td>49</td>\n      <td>62</td>\n      <td>156</td>\n      <td>472</td>\n    </tr>\n    <tr>\n      <th>674</th>\n      <td>492</td>\n      <td>Tyler Zeller</td>\n      <td>C</td>\n      <td>25</td>\n      <td>BOS</td>\n      <td>82</td>\n      <td>59</td>\n      <td>1731</td>\n      <td>340</td>\n      <td>619</td>\n      <td>...</td>\n      <td>.823</td>\n      <td>146</td>\n      <td>319</td>\n      <td>465</td>\n      <td>113</td>\n      <td>18</td>\n      <td>52</td>\n      <td>76</td>\n      <td>205</td>\n      <td>833</td>\n    </tr>\n  </tbody>\n</table>\n<p>5 rows × 30 columns</p>\n</div>"
     },
     "execution_count": 39,
     "metadata": {},
     "output_type": "execute_result"
    }
   ],
   "source": [
    "df4.tail()"
   ]
  },
  {
   "cell_type": "code",
   "execution_count": 40,
   "metadata": {
    "ExecuteTime": {
     "end_time": "2023-08-13T20:39:12.141407Z",
     "start_time": "2023-08-13T20:39:12.013306100Z"
    }
   },
   "outputs": [
    {
     "data": {
      "text/plain": "Rk        object\nPlayer    object\nPos       object\nAge       object\nTm        object\nG         object\nGS        object\nMP        object\nFG        object\nFGA       object\nFG%       object\n3P        object\n3PA       object\n3P%       object\n2P        object\n2PA       object\n2P%       object\neFG%      object\nFT        object\nFTA       object\nFT%       object\nORB       object\nDRB       object\nTRB       object\nAST       object\nSTL       object\nBLK       object\nTOV       object\nPF        object\nPTS       object\ndtype: object"
     },
     "execution_count": 40,
     "metadata": {},
     "output_type": "execute_result"
    }
   ],
   "source": [
    "df4.dtypes"
   ]
  },
  {
   "cell_type": "code",
   "execution_count": 41,
   "metadata": {
    "ExecuteTime": {
     "end_time": "2023-08-13T20:39:12.183758200Z",
     "start_time": "2023-08-13T20:39:12.056298800Z"
    }
   },
   "outputs": [
    {
     "data": {
      "text/plain": "Index(['Rk', 'Player', 'Pos', 'Age', 'Tm', 'G', 'GS', 'MP', 'FG', 'FGA', 'FG%',\n       '3P', '3PA', '3P%', '2P', '2PA', '2P%', 'eFG%', 'FT', 'FTA', 'FT%',\n       'ORB', 'DRB', 'TRB', 'AST', 'STL', 'BLK', 'TOV', 'PF', 'PTS'],\n      dtype='object')"
     },
     "execution_count": 41,
     "metadata": {},
     "output_type": "execute_result"
    }
   ],
   "source": [
    "df4.columns"
   ]
  },
  {
   "cell_type": "code",
   "execution_count": 42,
   "metadata": {
    "ExecuteTime": {
     "end_time": "2023-08-13T20:39:12.250919700Z",
     "start_time": "2023-08-13T20:39:12.088297Z"
    }
   },
   "outputs": [
    {
     "data": {
      "text/plain": "      Rk\n0      1\n1      2\n2      3\n3      4\n4      5\n..   ...\n670  490\n671  490\n672  490\n673  491\n674  492\n\n[675 rows x 1 columns]",
      "text/html": "<div>\n<style scoped>\n    .dataframe tbody tr th:only-of-type {\n        vertical-align: middle;\n    }\n\n    .dataframe tbody tr th {\n        vertical-align: top;\n    }\n\n    .dataframe thead th {\n        text-align: right;\n    }\n</style>\n<table border=\"1\" class=\"dataframe\">\n  <thead>\n    <tr style=\"text-align: right;\">\n      <th></th>\n      <th>Rk</th>\n    </tr>\n  </thead>\n  <tbody>\n    <tr>\n      <th>0</th>\n      <td>1</td>\n    </tr>\n    <tr>\n      <th>1</th>\n      <td>2</td>\n    </tr>\n    <tr>\n      <th>2</th>\n      <td>3</td>\n    </tr>\n    <tr>\n      <th>3</th>\n      <td>4</td>\n    </tr>\n    <tr>\n      <th>4</th>\n      <td>5</td>\n    </tr>\n    <tr>\n      <th>...</th>\n      <td>...</td>\n    </tr>\n    <tr>\n      <th>670</th>\n      <td>490</td>\n    </tr>\n    <tr>\n      <th>671</th>\n      <td>490</td>\n    </tr>\n    <tr>\n      <th>672</th>\n      <td>490</td>\n    </tr>\n    <tr>\n      <th>673</th>\n      <td>491</td>\n    </tr>\n    <tr>\n      <th>674</th>\n      <td>492</td>\n    </tr>\n  </tbody>\n</table>\n<p>675 rows × 1 columns</p>\n</div>"
     },
     "execution_count": 42,
     "metadata": {},
     "output_type": "execute_result"
    }
   ],
   "source": [
    "df4[['Rk']]"
   ]
  },
  {
   "cell_type": "code",
   "execution_count": 43,
   "metadata": {
    "ExecuteTime": {
     "end_time": "2023-08-13T20:39:12.318916600Z",
     "start_time": "2023-08-13T20:39:12.109407700Z"
    }
   },
   "outputs": [
    {
     "data": {
      "text/plain": "     TRB  AST  STL\n0    301   68   27\n1     28   16   16\n2    523   66   38\n3     77   15    4\n4    247  129   41\n..   ...  ...  ...\n670  411  173  124\n671  245  135   86\n672  166   38   38\n673  362  100   34\n674  465  113   18\n\n[675 rows x 3 columns]",
      "text/html": "<div>\n<style scoped>\n    .dataframe tbody tr th:only-of-type {\n        vertical-align: middle;\n    }\n\n    .dataframe tbody tr th {\n        vertical-align: top;\n    }\n\n    .dataframe thead th {\n        text-align: right;\n    }\n</style>\n<table border=\"1\" class=\"dataframe\">\n  <thead>\n    <tr style=\"text-align: right;\">\n      <th></th>\n      <th>TRB</th>\n      <th>AST</th>\n      <th>STL</th>\n    </tr>\n  </thead>\n  <tbody>\n    <tr>\n      <th>0</th>\n      <td>301</td>\n      <td>68</td>\n      <td>27</td>\n    </tr>\n    <tr>\n      <th>1</th>\n      <td>28</td>\n      <td>16</td>\n      <td>16</td>\n    </tr>\n    <tr>\n      <th>2</th>\n      <td>523</td>\n      <td>66</td>\n      <td>38</td>\n    </tr>\n    <tr>\n      <th>3</th>\n      <td>77</td>\n      <td>15</td>\n      <td>4</td>\n    </tr>\n    <tr>\n      <th>4</th>\n      <td>247</td>\n      <td>129</td>\n      <td>41</td>\n    </tr>\n    <tr>\n      <th>...</th>\n      <td>...</td>\n      <td>...</td>\n      <td>...</td>\n    </tr>\n    <tr>\n      <th>670</th>\n      <td>411</td>\n      <td>173</td>\n      <td>124</td>\n    </tr>\n    <tr>\n      <th>671</th>\n      <td>245</td>\n      <td>135</td>\n      <td>86</td>\n    </tr>\n    <tr>\n      <th>672</th>\n      <td>166</td>\n      <td>38</td>\n      <td>38</td>\n    </tr>\n    <tr>\n      <th>673</th>\n      <td>362</td>\n      <td>100</td>\n      <td>34</td>\n    </tr>\n    <tr>\n      <th>674</th>\n      <td>465</td>\n      <td>113</td>\n      <td>18</td>\n    </tr>\n  </tbody>\n</table>\n<p>675 rows × 3 columns</p>\n</div>"
     },
     "execution_count": 43,
     "metadata": {},
     "output_type": "execute_result"
    }
   ],
   "source": [
    "df4[['TRB', 'AST', 'STL']]"
   ]
  },
  {
   "cell_type": "code",
   "execution_count": 44,
   "metadata": {
    "ExecuteTime": {
     "end_time": "2023-08-13T20:39:12.319911400Z",
     "start_time": "2023-08-13T20:39:12.141407Z"
    }
   },
   "outputs": [],
   "source": [
    "df4.to_csv(\"player.csv\",index=False)"
   ]
  }
 ],
 "metadata": {
  "kernelspec": {
   "display_name": "base",
   "language": "python",
   "name": "python3"
  },
  "language_info": {
   "codemirror_mode": {
    "name": "ipython",
    "version": 3
   },
   "file_extension": ".py",
   "mimetype": "text/x-python",
   "name": "python",
   "nbconvert_exporter": "python",
   "pygments_lexer": "ipython3",
   "version": "3.9.16"
  },
  "orig_nbformat": 4,
  "vscode": {
   "interpreter": {
    "hash": "c370489388e782aa9b6373b0856d4a71cb56f2a887cc53048a8e75b66b592545"
   }
  }
 },
 "nbformat": 4,
 "nbformat_minor": 2
}
