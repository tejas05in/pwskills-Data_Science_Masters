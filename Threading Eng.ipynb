{
 "cells": [
  {
   "cell_type": "markdown",
   "source": [
    "**`Threading`**"
   ],
   "metadata": {
    "collapsed": false
   }
  },
  {
   "cell_type": "code",
   "execution_count": 1,
   "outputs": [],
   "source": [
    "import threading"
   ],
   "metadata": {
    "collapsed": false,
    "ExecuteTime": {
     "end_time": "2023-08-13T20:58:28.316497300Z",
     "start_time": "2023-08-13T20:58:28.295036800Z"
    }
   }
  },
  {
   "cell_type": "code",
   "execution_count": 2,
   "outputs": [],
   "source": [
    "def test(id):\n",
    "    print(\"this is my test id %d\" %id)"
   ],
   "metadata": {
    "collapsed": false,
    "ExecuteTime": {
     "end_time": "2023-08-13T20:58:29.098934400Z",
     "start_time": "2023-08-13T20:58:29.073389500Z"
    }
   }
  },
  {
   "cell_type": "code",
   "execution_count": 3,
   "outputs": [
    {
     "name": "stdout",
     "output_type": "stream",
     "text": [
      "this is my test id 10\n"
     ]
    }
   ],
   "source": [
    "test(10)"
   ],
   "metadata": {
    "collapsed": false,
    "ExecuteTime": {
     "end_time": "2023-08-13T20:58:29.850475400Z",
     "start_time": "2023-08-13T20:58:29.816838Z"
    }
   }
  },
  {
   "cell_type": "code",
   "execution_count": 4,
   "outputs": [
    {
     "name": "stdout",
     "output_type": "stream",
     "text": [
      "this is my test id 1\n"
     ]
    }
   ],
   "source": [
    "test(1)"
   ],
   "metadata": {
    "collapsed": false,
    "ExecuteTime": {
     "end_time": "2023-08-13T20:58:30.232030900Z",
     "start_time": "2023-08-13T20:58:30.203886100Z"
    }
   }
  },
  {
   "cell_type": "code",
   "execution_count": 5,
   "outputs": [
    {
     "name": "stdout",
     "output_type": "stream",
     "text": [
      "this is my test id 3\n"
     ]
    }
   ],
   "source": [
    "test(3)"
   ],
   "metadata": {
    "collapsed": false,
    "ExecuteTime": {
     "end_time": "2023-08-13T20:58:30.728018700Z",
     "start_time": "2023-08-13T20:58:30.689466900Z"
    }
   }
  },
  {
   "cell_type": "code",
   "execution_count": 6,
   "outputs": [],
   "source": [
    "thread  = [threading.Thread(target=test,args=(i,)) for i in [10,1,2]]"
   ],
   "metadata": {
    "collapsed": false,
    "ExecuteTime": {
     "end_time": "2023-08-13T20:58:31.131850400Z",
     "start_time": "2023-08-13T20:58:31.091130300Z"
    }
   }
  },
  {
   "cell_type": "code",
   "execution_count": 7,
   "outputs": [
    {
     "data": {
      "text/plain": "[<Thread(Thread-5 (test), initial)>,\n <Thread(Thread-6 (test), initial)>,\n <Thread(Thread-7 (test), initial)>]"
     },
     "execution_count": 7,
     "metadata": {},
     "output_type": "execute_result"
    }
   ],
   "source": [
    "thread"
   ],
   "metadata": {
    "collapsed": false,
    "ExecuteTime": {
     "end_time": "2023-08-13T20:58:31.660629400Z",
     "start_time": "2023-08-13T20:58:31.621032900Z"
    }
   }
  },
  {
   "cell_type": "code",
   "execution_count": 8,
   "outputs": [
    {
     "name": "stdout",
     "output_type": "stream",
     "text": [
      "this is my test id 10\n",
      "this is my test id 1\n",
      "this is my test id 2\n"
     ]
    }
   ],
   "source": [
    "for t in thread:\n",
    "    t.start()"
   ],
   "metadata": {
    "collapsed": false,
    "ExecuteTime": {
     "end_time": "2023-08-13T20:58:32.316554100Z",
     "start_time": "2023-08-13T20:58:32.289575100Z"
    }
   }
  },
  {
   "cell_type": "code",
   "execution_count": 9,
   "outputs": [],
   "source": [
    "import urllib.request\n",
    "\n",
    "def file_download(url,filename):\n",
    "    urllib.request.urlretrieve(url,filename)"
   ],
   "metadata": {
    "collapsed": false,
    "ExecuteTime": {
     "end_time": "2023-08-13T20:58:32.879270800Z",
     "start_time": "2023-08-13T20:58:32.855073800Z"
    }
   }
  },
  {
   "cell_type": "code",
   "execution_count": 10,
   "outputs": [],
   "source": [
    "file_download('https://raw.githubusercontent.com/itsfoss/text-files/master/agatha.txt','test1.txt')"
   ],
   "metadata": {
    "collapsed": false,
    "ExecuteTime": {
     "end_time": "2023-08-13T20:58:33.831540500Z",
     "start_time": "2023-08-13T20:58:33.288443100Z"
    }
   }
  },
  {
   "cell_type": "code",
   "execution_count": 11,
   "outputs": [],
   "source": [
    "with open('test1.txt','w') as f:\n",
    "    f.write('''The Mysterious Affair at Styles\n",
    "The Secret Adversary\n",
    "The Murder on the Links\n",
    "The Man in the Brown Suit\n",
    "The Secret of Chimneys\n",
    "The Murder of Roger Ackroyd\n",
    "The Big Four\n",
    "The Mystery of the Blue Train\n",
    "The Seven Dials Mystery\n",
    "The Murder at the Vicarage\n",
    "Giant's Bread\n",
    "The Floating Admiral\n",
    "The Sittaford Mystery\n",
    "Peril at End House\n",
    "Lord Edgware Dies\n",
    "Murder on the Orient Express\n",
    "Unfinished Portrait\n",
    "Why Didn't They Ask Evans?\n",
    "Three Act Tragedy\n",
    "Death in the Clouds''')"
   ],
   "metadata": {
    "collapsed": false,
    "ExecuteTime": {
     "end_time": "2023-08-13T20:58:33.875250700Z",
     "start_time": "2023-08-13T20:58:33.834529400Z"
    }
   }
  },
  {
   "cell_type": "code",
   "execution_count": 12,
   "outputs": [],
   "source": [
    "url_list = ['https://raw.githubusercontent.com/itsfoss/text-files/master/agatha.txt','https://raw.githubusercontent.com/itsfoss/text-files/master/sherlock.txt','https://raw.githubusercontent.com/itsfoss/text-files/master/sample_log_file.txt']"
   ],
   "metadata": {
    "collapsed": false,
    "ExecuteTime": {
     "end_time": "2023-08-13T20:58:33.992522Z",
     "start_time": "2023-08-13T20:58:33.943364600Z"
    }
   }
  },
  {
   "cell_type": "code",
   "execution_count": 13,
   "outputs": [],
   "source": [
    "data_file_list = ['data1.txt','data2.txt','data3.txt']"
   ],
   "metadata": {
    "collapsed": false,
    "ExecuteTime": {
     "end_time": "2023-08-13T20:58:34.382312400Z",
     "start_time": "2023-08-13T20:58:34.347682600Z"
    }
   }
  },
  {
   "cell_type": "code",
   "execution_count": 14,
   "outputs": [],
   "source": [
    "thread1 =[threading.Thread(target=file_download,args=(url_list[i],data_file_list[i])) for i in range(len(url_list))]"
   ],
   "metadata": {
    "collapsed": false,
    "ExecuteTime": {
     "end_time": "2023-08-13T20:58:34.644470400Z",
     "start_time": "2023-08-13T20:58:34.622064400Z"
    }
   }
  },
  {
   "cell_type": "code",
   "execution_count": 15,
   "outputs": [],
   "source": [
    "for t in thread1:\n",
    "    t.start()"
   ],
   "metadata": {
    "collapsed": false,
    "ExecuteTime": {
     "end_time": "2023-08-13T20:58:35.064116900Z",
     "start_time": "2023-08-13T20:58:35.005002300Z"
    }
   }
  },
  {
   "cell_type": "code",
   "execution_count": 16,
   "outputs": [
    {
     "data": {
      "text/plain": "[<Thread(Thread-8 (file_download), stopped 7028)>,\n <Thread(Thread-9 (file_download), started 2724)>,\n <Thread(Thread-10 (file_download), started 7652)>]"
     },
     "execution_count": 16,
     "metadata": {},
     "output_type": "execute_result"
    }
   ],
   "source": [
    "thread1"
   ],
   "metadata": {
    "collapsed": false,
    "ExecuteTime": {
     "end_time": "2023-08-13T20:58:35.488745800Z",
     "start_time": "2023-08-13T20:58:35.462258100Z"
    }
   }
  },
  {
   "cell_type": "code",
   "execution_count": 17,
   "outputs": [],
   "source": [
    "import time"
   ],
   "metadata": {
    "collapsed": false,
    "ExecuteTime": {
     "end_time": "2023-08-13T20:58:36.787826600Z",
     "start_time": "2023-08-13T20:58:36.769490100Z"
    }
   }
  },
  {
   "cell_type": "code",
   "execution_count": 18,
   "outputs": [],
   "source": [
    "def test2(x):\n",
    "    for i in range(10):\n",
    "        print(\" test1 print the value of x %d and print the value of i %d\" %(x,i))\n",
    "        #time.sleep(1)"
   ],
   "metadata": {
    "collapsed": false,
    "ExecuteTime": {
     "end_time": "2023-08-13T20:58:37.223406800Z",
     "start_time": "2023-08-13T20:58:37.192890600Z"
    }
   }
  },
  {
   "cell_type": "code",
   "execution_count": 19,
   "outputs": [
    {
     "name": "stdout",
     "output_type": "stream",
     "text": [
      " test1 print the value of x 10 and print the value of i 0\n",
      " test1 print the value of x 10 and print the value of i 1\n",
      " test1 print the value of x 10 and print the value of i 2\n",
      " test1 print the value of x 10 and print the value of i 3\n",
      " test1 print the value of x 10 and print the value of i 4\n",
      " test1 print the value of x 10 and print the value of i 5\n",
      " test1 print the value of x 10 and print the value of i 6\n",
      " test1 print the value of x 10 and print the value of i 7\n",
      " test1 print the value of x 10 and print the value of i 8\n",
      " test1 print the value of x 10 and print the value of i 9\n"
     ]
    }
   ],
   "source": [
    "test2(10)"
   ],
   "metadata": {
    "collapsed": false,
    "ExecuteTime": {
     "end_time": "2023-08-13T20:58:37.697797800Z",
     "start_time": "2023-08-13T20:58:37.675992600Z"
    }
   }
  },
  {
   "cell_type": "code",
   "execution_count": 20,
   "outputs": [
    {
     "name": "stdout",
     "output_type": "stream",
     "text": [
      " test1 print the value of x 2 and print the value of i 0\n",
      " test1 print the value of x 2 and print the value of i 1\n",
      " test1 print the value of x 2 and print the value of i 2\n",
      " test1 print the value of x 2 and print the value of i 3\n",
      " test1 print the value of x 2 and print the value of i 4\n",
      " test1 print the value of x 2 and print the value of i 5\n",
      " test1 print the value of x 2 and print the value of i 6\n",
      " test1 print the value of x 2 and print the value of i 7\n",
      " test1 print the value of x 2 and print the value of i 8\n",
      " test1 print the value of x 2 and print the value of i 9\n"
     ]
    }
   ],
   "source": [
    "test2(2)"
   ],
   "metadata": {
    "collapsed": false,
    "ExecuteTime": {
     "end_time": "2023-08-13T20:58:38.977353100Z",
     "start_time": "2023-08-13T20:58:38.957198500Z"
    }
   }
  },
  {
   "cell_type": "code",
   "execution_count": 21,
   "outputs": [],
   "source": [
    "thread2 = [threading.Thread(target=test2,args=(i,)) for i in [100,10,20,5]]"
   ],
   "metadata": {
    "collapsed": false,
    "ExecuteTime": {
     "end_time": "2023-08-13T20:58:40.719650400Z",
     "start_time": "2023-08-13T20:58:40.679970500Z"
    }
   }
  },
  {
   "cell_type": "code",
   "execution_count": 22,
   "outputs": [
    {
     "name": "stdout",
     "output_type": "stream",
     "text": [
      " test1 print the value of x 100 and print the value of i 0\n",
      " test1 print the value of x 100 and print the value of i 1\n",
      " test1 print the value of x 100 and print the value of i 2\n",
      " test1 print the value of x 100 and print the value of i 3\n",
      " test1 print the value of x 100 and print the value of i 4\n",
      " test1 print the value of x 100 and print the value of i 5\n",
      " test1 print the value of x 100 and print the value of i 6\n",
      " test1 print the value of x 100 and print the value of i 7\n",
      " test1 print the value of x 100 and print the value of i 8\n",
      " test1 print the value of x 100 and print the value of i 9\n",
      " test1 print the value of x 10 and print the value of i 0\n",
      " test1 print the value of x 10 and print the value of i 1\n",
      " test1 print the value of x 10 and print the value of i 2\n",
      " test1 print the value of x 10 and print the value of i 3\n",
      " test1 print the value of x 10 and print the value of i 4\n",
      " test1 print the value of x 10 and print the value of i 5\n",
      " test1 print the value of x 10 and print the value of i 6\n",
      " test1 print the value of x 10 and print the value of i 7\n",
      " test1 print the value of x 10 and print the value of i 8\n",
      " test1 print the value of x 10 and print the value of i 9\n",
      " test1 print the value of x 20 and print the value of i 0\n",
      " test1 print the value of x 20 and print the value of i 1\n",
      " test1 print the value of x 20 and print the value of i 2\n",
      " test1 print the value of x 20 and print the value of i 3\n",
      " test1 print the value of x 20 and print the value of i 4\n",
      " test1 print the value of x 20 and print the value of i 5\n",
      " test1 print the value of x 20 and print the value of i 6\n",
      " test1 print the value of x 20 and print the value of i 7\n",
      " test1 print the value of x 20 and print the value of i 8\n",
      " test1 print the value of x 20 and print the value of i 9\n",
      " test1 print the value of x 5 and print the value of i 0\n",
      " test1 print the value of x 5 and print the value of i 1\n",
      " test1 print the value of x 5 and print the value of i 2\n",
      " test1 print the value of x 5 and print the value of i 3\n",
      " test1 print the value of x 5 and print the value of i 4\n",
      " test1 print the value of x 5 and print the value of i 5\n",
      " test1 print the value of x 5 and print the value of i 6\n",
      " test1 print the value of x 5 and print the value of i 7\n",
      " test1 print the value of x 5 and print the value of i 8\n",
      " test1 print the value of x 5 and print the value of i 9\n"
     ]
    }
   ],
   "source": [
    "for t in thread2:\n",
    "    t.start()"
   ],
   "metadata": {
    "collapsed": false,
    "ExecuteTime": {
     "end_time": "2023-08-13T20:58:41.460045200Z",
     "start_time": "2023-08-13T20:58:41.424449800Z"
    }
   }
  },
  {
   "cell_type": "code",
   "execution_count": 23,
   "outputs": [
    {
     "data": {
      "text/plain": "[<Thread(Thread-11 (test2), stopped 9924)>,\n <Thread(Thread-12 (test2), stopped 2472)>,\n <Thread(Thread-13 (test2), stopped 12064)>,\n <Thread(Thread-14 (test2), stopped 12096)>]"
     },
     "execution_count": 23,
     "metadata": {},
     "output_type": "execute_result"
    }
   ],
   "source": [
    "thread2"
   ],
   "metadata": {
    "collapsed": false,
    "ExecuteTime": {
     "end_time": "2023-08-13T20:58:42.764452300Z",
     "start_time": "2023-08-13T20:58:42.735972400Z"
    }
   }
  },
  {
   "cell_type": "code",
   "execution_count": 24,
   "outputs": [
    {
     "name": "stdout",
     "output_type": "stream",
     "text": [
      "value of x 1 and value of shared_var 1\n"
     ]
    }
   ],
   "source": [
    "shared_var = 0\n",
    "lock_var = threading.Lock()\n",
    "def test4(x):\n",
    "    global shared_var\n",
    "    with lock_var:\n",
    "        shared_var += 1\n",
    "        print(\"value of x %d and value of shared_var %d\" %(x,shared_var))\n",
    "        time.sleep(1)\n",
    "thread5 = [threading.Thread(target=test4,args=(i,)) for i in  [1,2,3,4,4,5,6]]\n",
    "for t in thread5:\n",
    "    t.start()"
   ],
   "metadata": {
    "collapsed": false,
    "ExecuteTime": {
     "end_time": "2023-08-13T20:58:44.109692100Z",
     "start_time": "2023-08-13T20:58:44.075041300Z"
    }
   }
  },
  {
   "cell_type": "code",
   "execution_count": 26,
   "outputs": [
    {
     "name": "stdout",
     "output_type": "stream",
     "text": [
      "value of x 1 and value of shared_var 8\n"
     ]
    }
   ],
   "source": [
    "test4(1)"
   ],
   "metadata": {
    "collapsed": false,
    "ExecuteTime": {
     "end_time": "2023-08-13T20:59:15.299130800Z",
     "start_time": "2023-08-13T20:59:14.275928300Z"
    }
   }
  },
  {
   "cell_type": "code",
   "execution_count": 28,
   "outputs": [
    {
     "name": "stdout",
     "output_type": "stream",
     "text": [
      "value of x 2 and value of shared_var 9\n"
     ]
    }
   ],
   "source": [
    "test4(2)"
   ],
   "metadata": {
    "collapsed": false,
    "ExecuteTime": {
     "end_time": "2023-08-13T20:59:24.054711900Z",
     "start_time": "2023-08-13T20:59:22.986786100Z"
    }
   }
  },
  {
   "cell_type": "code",
   "execution_count": 32,
   "outputs": [],
   "source": [],
   "metadata": {
    "collapsed": false
   }
  }
 ],
 "metadata": {
  "kernelspec": {
   "display_name": "Python 3",
   "language": "python",
   "name": "python3"
  },
  "language_info": {
   "codemirror_mode": {
    "name": "ipython",
    "version": 2
   },
   "file_extension": ".py",
   "mimetype": "text/x-python",
   "name": "python",
   "nbconvert_exporter": "python",
   "pygments_lexer": "ipython2",
   "version": "2.7.6"
  }
 },
 "nbformat": 4,
 "nbformat_minor": 0
}
