{
 "cells": [
  {
   "cell_type": "markdown",
   "id": "0343ad11",
   "metadata": {},
   "source": [
    "# **`ABSTRACTION`**"
   ]
  },
  {
   "cell_type": "code",
   "execution_count": 11,
   "id": "2dbd019f",
   "metadata": {
    "ExecuteTime": {
     "end_time": "2023-08-20T15:33:03.131045100Z",
     "start_time": "2023-08-20T15:33:03.110761800Z"
    }
   },
   "outputs": [],
   "source": [
    "import abc\n",
    "from abc import ABC\n",
    "\n",
    "\n",
    "class pwskills:\n",
    "    \n",
    "    @abc.abstractmethod\n",
    "    def student_details(self):\n",
    "        pass\n",
    "    \n",
    "    @abc.abstractmethod\n",
    "    def student_assignment(self):\n",
    "        pass\n",
    "    \n",
    "    @abc.abstractmethod\n",
    "    def student_marks(self):\n",
    "        pass"
   ]
  },
  {
   "cell_type": "code",
   "execution_count": 12,
   "id": "c9d9efd1",
   "metadata": {
    "ExecuteTime": {
     "end_time": "2023-08-20T15:33:03.877942100Z",
     "start_time": "2023-08-20T15:33:03.846687300Z"
    }
   },
   "outputs": [],
   "source": [
    "class data_science(pwskills, ABC):\n",
    "    \n",
    "    def student_details(self):\n",
    "        return \"it will try to return a details of data science masters\"\n",
    "    \n",
    "    def student_assignment(self):\n",
    "        return \"it will return a details of student assignment for data science masters\"\n",
    "    "
   ]
  },
  {
   "cell_type": "code",
   "execution_count": 13,
   "id": "df457f0b",
   "metadata": {
    "ExecuteTime": {
     "end_time": "2023-08-20T15:33:04.307399100Z",
     "start_time": "2023-08-20T15:33:04.276138700Z"
    }
   },
   "outputs": [],
   "source": [
    "class web_dev(pwskills, ABC):\n",
    "    def student_details(self):\n",
    "        return \"this will return details of web_dev\"\n",
    "    def student_marks(self):\n",
    "        return \"this will return the marks of web_dev class\""
   ]
  },
  {
   "cell_type": "code",
   "execution_count": 14,
   "id": "ddb929d5",
   "metadata": {
    "ExecuteTime": {
     "end_time": "2023-08-20T15:33:04.600643700Z",
     "start_time": "2023-08-20T15:33:04.569400900Z"
    }
   },
   "outputs": [
    {
     "data": {
      "text/plain": "'it will try to return a details of data science masters'"
     },
     "execution_count": 14,
     "metadata": {},
     "output_type": "execute_result"
    }
   ],
   "source": [
    "ds = data_science()\n",
    "ds.student_details()"
   ]
  },
  {
   "cell_type": "code",
   "execution_count": 15,
   "id": "38fb89ae",
   "metadata": {
    "ExecuteTime": {
     "end_time": "2023-08-20T15:33:05.046540100Z",
     "start_time": "2023-08-20T15:33:05.015263200Z"
    }
   },
   "outputs": [
    {
     "data": {
      "text/plain": "'this will return details of web_dev'"
     },
     "execution_count": 15,
     "metadata": {},
     "output_type": "execute_result"
    }
   ],
   "source": [
    "wd = web_dev()\n",
    "wd.student_details()"
   ]
  },
  {
   "cell_type": "code",
   "execution_count": null,
   "outputs": [],
   "source": [],
   "metadata": {
    "collapsed": false
   },
   "id": "7e2c6ce6b983fe9b"
  }
 ],
 "metadata": {
  "kernelspec": {
   "display_name": "Python 3 (ipykernel)",
   "language": "python",
   "name": "python3"
  },
  "language_info": {
   "codemirror_mode": {
    "name": "ipython",
    "version": 3
   },
   "file_extension": ".py",
   "mimetype": "text/x-python",
   "name": "python",
   "nbconvert_exporter": "python",
   "pygments_lexer": "ipython3",
   "version": "3.9.16"
  }
 },
 "nbformat": 4,
 "nbformat_minor": 5
}
